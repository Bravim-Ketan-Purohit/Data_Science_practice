{
  "nbformat": 4,
  "nbformat_minor": 0,
  "metadata": {
    "colab": {
      "provenance": []
    },
    "kernelspec": {
      "name": "python3",
      "display_name": "Python 3"
    },
    "language_info": {
      "name": "python"
    }
  },
  "cells": [
    {
      "cell_type": "markdown",
      "source": [
        "\n",
        "**Q1: What are missing values in a dataset? Why is it essential to handle missing values? Name some algorithms that are not affected by missing values.**\n",
        "\n",
        "**Answer:**  \n",
        "Missing values in a dataset refer to the absence of data values in certain observations or features. These missing values can occur due to various reasons, such as data entry errors, sensor malfunctions, or incomplete data collection. Handling missing values is essential because they can lead to biased or incorrect analysis, reduce the performance of machine learning models, and cause errors during data processing.\n",
        "\n",
        "There are three types of missing data:  \n",
        "1. **Missing Completely at Random (MCAR):** The missingness is unrelated to any observed or unobserved data.  \n",
        "2. **Missing at Random (MAR):** The missingness is related to observed data but not the missing data itself.  \n",
        "3. **Missing Not at Random (MNAR):** The missingness is related to the missing data itself.\n",
        "\n",
        "Some algorithms that are not significantly affected by missing values include decision trees, random forests, and XGBoost, as they can handle missing data internally by using surrogate splits or other techniques.\n",
        "\n"
      ],
      "metadata": {
        "id": "RVREmD3gMI7Z"
      }
    },
    {
      "cell_type": "markdown",
      "source": [
        "---\n",
        "\n",
        "**Q2: List down techniques used to handle missing data. Give an example of each with Python code.**\n",
        "\n",
        "**Answer:**  \n",
        "Techniques to handle missing data include:  \n",
        "1. **Dropping missing values:** Remove rows or columns with missing values using `dropna()`.  \n",
        "2. **Imputation:** Replace missing values with mean, median, or mode depending on the data distribution. For categorical data, use the mode. For numerical data, use mean or median based on whether the data is normally distributed or skewed.  \n",
        "\n",
        "\n"
      ],
      "metadata": {
        "id": "xFKWvc4ZMXYh"
      }
    },
    {
      "cell_type": "code",
      "source": [
        "import pandas as pd\n",
        "import numpy as np\n",
        "\n",
        "# Sample dataset\n",
        "data = {'A': [1, 2, np.nan, 4], 'B': [5, np.nan, np.nan, 8], 'C': [10, 11, 12, 13]}\n",
        "df = pd.DataFrame(data)\n",
        "\n",
        "# Dropping missing values\n",
        "df_dropped = df.dropna()\n",
        "\n",
        "# Imputing with mean\n",
        "df['A'].fillna(df['A'].mean(), inplace=True)\n",
        "\n",
        "# Imputing with median\n",
        "df['B'].fillna(df['B'].median(), inplace=True)\n",
        "\n",
        "# Imputing with mode\n",
        "df['C'].fillna(df['C'].mode()[0], inplace=True)"
      ],
      "metadata": {
        "colab": {
          "base_uri": "https://localhost:8080/"
        },
        "id": "7zKFSeyPMiLq",
        "outputId": "cb351379-4660-49bf-ed53-36911155fa41"
      },
      "execution_count": 1,
      "outputs": [
        {
          "output_type": "stream",
          "name": "stderr",
          "text": [
            "<ipython-input-1-cd4fd72465d9>:12: FutureWarning: A value is trying to be set on a copy of a DataFrame or Series through chained assignment using an inplace method.\n",
            "The behavior will change in pandas 3.0. This inplace method will never work because the intermediate object on which we are setting values always behaves as a copy.\n",
            "\n",
            "For example, when doing 'df[col].method(value, inplace=True)', try using 'df.method({col: value}, inplace=True)' or df[col] = df[col].method(value) instead, to perform the operation inplace on the original object.\n",
            "\n",
            "\n",
            "  df['A'].fillna(df['A'].mean(), inplace=True)\n",
            "<ipython-input-1-cd4fd72465d9>:15: FutureWarning: A value is trying to be set on a copy of a DataFrame or Series through chained assignment using an inplace method.\n",
            "The behavior will change in pandas 3.0. This inplace method will never work because the intermediate object on which we are setting values always behaves as a copy.\n",
            "\n",
            "For example, when doing 'df[col].method(value, inplace=True)', try using 'df.method({col: value}, inplace=True)' or df[col] = df[col].method(value) instead, to perform the operation inplace on the original object.\n",
            "\n",
            "\n",
            "  df['B'].fillna(df['B'].median(), inplace=True)\n",
            "<ipython-input-1-cd4fd72465d9>:18: FutureWarning: A value is trying to be set on a copy of a DataFrame or Series through chained assignment using an inplace method.\n",
            "The behavior will change in pandas 3.0. This inplace method will never work because the intermediate object on which we are setting values always behaves as a copy.\n",
            "\n",
            "For example, when doing 'df[col].method(value, inplace=True)', try using 'df.method({col: value}, inplace=True)' or df[col] = df[col].method(value) instead, to perform the operation inplace on the original object.\n",
            "\n",
            "\n",
            "  df['C'].fillna(df['C'].mode()[0], inplace=True)\n"
          ]
        }
      ]
    },
    {
      "cell_type": "markdown",
      "source": [
        "---\n",
        "\n",
        "**Q3: Explain imbalanced data. What will happen if imbalanced data is not handled?**\n",
        "\n",
        "**Answer:**  \n",
        "Imbalanced data refers to a situation where the distribution of classes in a dataset is not uniform, meaning one class significantly outnumbers the other(s). For example, in a binary classification problem, 95% of the data might belong to one class, and only 5% to the other.  \n",
        "\n",
        "If imbalanced data is not handled, machine learning models may become biased toward the majority class, leading to poor performance in predicting the minority class. This can result in high accuracy but low recall, precision, or F1-score for the minority class, which is often the class of interest.\n",
        "\n",
        "---\n",
        "\n",
        "**Q4: What are Up-sampling and Down-sampling? Explain with an example when up-sampling and down-sampling are required.**\n",
        "\n",
        "**Answer:**  \n",
        "- **Up-sampling:** Increasing the number of observations in the minority class to balance the dataset. This can be done by duplicating existing samples or generating synthetic samples (e.g., using SMOTE).  \n",
        "- **Down-sampling:** Reducing the number of observations in the majority class to balance the dataset.  \n",
        "\n",
        "**Example:**  \n",
        "In a fraud detection dataset, fraudulent transactions (minority class) are much rarer than non-fraudulent transactions (majority class). Here, up-sampling the minority class or down-sampling the majority class can help balance the dataset and improve model performance.\n",
        "\n",
        "---\n",
        "\n",
        "**Q5: What is Data Augmentation? Explain SMOTE.**\n",
        "\n",
        "**Answer:**  \n",
        "Data augmentation is a technique used to increase the amount of training data by creating modified copies of existing data. This is particularly useful in imbalanced datasets or when data is scarce.  \n",
        "\n",
        "**SMOTE (Synthetic Minority Over-sampling Technique)** is a data augmentation method specifically designed for imbalanced datasets. It generates synthetic instances of the minority class by interpolating between existing instances. This helps balance the dataset and improves the model's ability to learn the minority class.\n",
        "\n",
        "---\n",
        "\n",
        "**Q6: What are outliers in a dataset? Why is it essential to handle outliers?**\n",
        "\n",
        "**Answer:**  \n",
        "Outliers are data points that significantly deviate from the rest of the data. They can occur due to measurement errors, data entry errors, or natural variability.  \n",
        "\n",
        "Handling outliers is essential because they can skew statistical analyses, reduce the accuracy of machine learning models, and lead to incorrect conclusions. Techniques to handle outliers include removing them, transforming the data, or using robust algorithms that are less sensitive to outliers.\n",
        "\n",
        "---\n",
        "\n",
        "**Q7: You are working on a project that requires analyzing customer data. However, you notice that some of the data is missing. What are some techniques you can use to handle the missing data in your analysis?**\n",
        "\n",
        "**Answer:**  \n",
        "Techniques to handle missing data include:  \n",
        "1. **Dropping missing values:** Use `dropna()` to remove rows or columns with missing values.  \n",
        "2. **Imputation:** Replace missing values with mean, median, or mode depending on the data distribution. For categorical data, use the mode. For numerical data, use mean or median based on whether the data is normally distributed or skewed.  \n",
        "\n",
        "---\n",
        "\n",
        "**Q8: You are working with a large dataset and find that a small percentage of the data is missing. What are some strategies you can use to determine if the missing data is missing at random or if there is a pattern to the missing data?**\n",
        "\n",
        "**Answer:**  \n",
        "To determine if the missing data is missing at random (MAR) or follows a pattern:  \n",
        "1. **Visualize missing data:** Use heatmaps or missing data plots to identify patterns.  \n",
        "2. **Statistical tests:** Perform tests like Little’s MCAR test to check if the data is missing completely at random.  \n",
        "3. **Analyze correlations:** Check if missingness in one feature is related to values in another feature.  \n",
        "\n",
        "If the dataset is large enough and only a small fraction of data is missing, dropping those values may not significantly impact the analysis.\n",
        "\n",
        "---\n",
        "\n",
        "**Q9: Suppose you are working on a medical diagnosis project and find that the majority of patients in the dataset do not have the condition of interest, while a small percentage do. What are some strategies you can use to evaluate the performance of your machine learning model on this imbalanced dataset?**\n",
        "\n",
        "**Answer:**  \n",
        "Strategies to evaluate model performance on imbalanced datasets include:  \n",
        "\n",
        "1. **Resampling techniques:** Use up-sampling (e.g., SMOTE) or down-sampling to balance the dataset.  \n",
        "2. **Class weighting:** Assign higher weights to the minority class during model training.  \n",
        "\n",
        "---\n",
        "\n",
        "**Q10: When attempting to estimate customer satisfaction for a project, you discover that the dataset is unbalanced, with the bulk of customers reporting being satisfied. What methods can you employ to balance the dataset and down-sample the majority class?**\n",
        "\n",
        "**Answer:**  \n",
        "To balance the dataset and down-sample the majority class:  \n",
        "1. **Random under-sampling:** Randomly remove observations from the majority class.  \n",
        "2. **Cluster-based under-sampling:** Use clustering techniques to reduce the majority class size.  \n",
        "3. **Tomek links:** Remove overlapping samples between classes.  \n",
        "\n",
        "---\n",
        "\n",
        "**Q11: You discover that the dataset is unbalanced with a low percentage of occurrences while working on a project that requires you to estimate the occurrence of a rare event. What methods can you employ to balance the dataset and up-sample the minority class?**\n",
        "\n",
        "**Answer:**  \n",
        "To balance the dataset and up-sample the minority class:  \n",
        "1. **Random over-sampling:** Duplicate samples from the minority class.  \n",
        "2. **SMOTE:** Generate synthetic samples for the minority class.  \n"
      ],
      "metadata": {
        "id": "2RcY1TEMMggN"
      }
    },
    {
      "cell_type": "code",
      "execution_count": null,
      "metadata": {
        "id": "OPbFqhGHMF5T"
      },
      "outputs": [],
      "source": []
    }
  ]
}