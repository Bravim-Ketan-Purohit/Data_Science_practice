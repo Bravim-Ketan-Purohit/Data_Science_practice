{
  "nbformat": 4,
  "nbformat_minor": 0,
  "metadata": {
    "colab": {
      "provenance": []
    },
    "kernelspec": {
      "name": "python3",
      "display_name": "Python 3"
    },
    "language_info": {
      "name": "python"
    }
  },
  "cells": [
    {
      "cell_type": "markdown",
      "source": [
        "# Machine Learning Assignment - 1"
      ],
      "metadata": {
        "id": "93ntfS0hzEmy"
      }
    },
    {
      "cell_type": "markdown",
      "source": [
        "\n",
        "## Q1: Explain the following with an example:\n",
        "\n",
        "### (C) Artificial Intelligence\n",
        "Artificial Intelligence (AI) refers to the simulation of human intelligence in machines that are programmed to think and act like humans. AI encompasses a broad range of applications, including reasoning, learning, problem-solving, perception, and language understanding.\n",
        "\n",
        "**Example**: A chatbot that can answer customer queries and understand natural language.\n",
        "\n",
        "### (<) Machine Learning\n",
        "Machine Learning (ML) is a subset of AI that enables systems to learn from data and improve their performance over time without being explicitly programmed.\n",
        "\n",
        "**Example**: Predicting house prices using historical data on prices, square footage, location, etc.\n",
        "\n",
        "### (I) Deep Learning\n",
        "Deep Learning (DL) is a subset of ML that uses neural networks with multiple layers (deep architectures) to model and understand complex patterns in large datasets.\n",
        "\n",
        "**Example**: Image recognition, where a neural network can identify objects in a photograph.\n",
        "\n",
        "---\n",
        "\n",
        "## Q2: What is supervised learning? List some examples of supervised learning.\n",
        "Supervised learning involves training a machine learning model on labeled data, where the input data is paired with the correct output. The model learns to map inputs to outputs.\n",
        "\n",
        "**Examples**:\n",
        "- Classification: Predicting whether an email is spam or not.\n",
        "- Regression: Predicting the price of a car based on its features.\n",
        "\n",
        "---\n",
        "\n",
        "## Q3: What is unsupervised learning? List some examples of unsupervised learning.\n",
        "Unsupervised learning involves training a machine learning model on unlabeled data. The model identifies patterns or structures in the data without explicit supervision.\n",
        "\n",
        "**Examples**:\n",
        "- Clustering: Grouping customers based on their purchasing behavior.\n",
        "- Dimensionality Reduction: Reducing the number of features in a dataset while retaining important information.\n",
        "\n",
        "---\n",
        "\n",
        "## Q4: What is the difference between AI, ML, DL, and DS?\n",
        "- **Artificial Intelligence (AI)**: The broader concept of machines being able to carry out tasks that simulate human intelligence.\n",
        "- **Machine Learning (ML)**: A subset of AI that focuses on algorithms allowing systems to learn from data.\n",
        "- **Deep Learning (DL)**: A specialized field of ML using neural networks with multiple layers to model complex patterns.\n",
        "- **Data Science (DS)**: A multidisciplinary field that uses statistics, data analysis, and ML to extract insights from data.\n",
        "\n",
        "---\n",
        "\n",
        "## Q5: What are the main differences between supervised, unsupervised, and semi-supervised learning?\n",
        "\n",
        "| **Aspect**          | **Supervised Learning**       | **Unsupervised Learning**  | **Semi-supervised Learning** |\n",
        "|----------------------|-------------------------------|-----------------------------|------------------------------|\n",
        "| **Data Type**        | Labeled data                 | Unlabeled data             | Combination of labeled and unlabeled data |\n",
        "| **Objective**        | Map inputs to specific outputs | Find patterns or structure | Use small labeled data to improve learning on large unlabeled data |\n",
        "| **Examples**         | Classification, regression    | Clustering, association    | Semi-supervised classification |\n",
        "| **Application**      | Spam detection, price prediction | Customer segmentation    | Medical diagnosis with partial labels |\n",
        "\n",
        "---\n",
        "\n",
        "## Q6: What is train, test, and validation split? Explain the importance of each term.\n",
        "\n",
        "1. **Training Set**:\n",
        "   - The subset of data used to train the model.\n",
        "   - The model learns patterns and relationships in this dataset.\n",
        "\n",
        "2. **Validation Set**:\n",
        "   - Used to fine-tune the model during training.\n",
        "   - Helps in hyperparameter tuning and model selection.\n",
        "\n",
        "3. **Test Set**:\n",
        "   - Used to evaluate the final model performance.\n",
        "   - Ensures that the model generalizes well to unseen data.\n",
        "\n",
        "**Importance**: Splitting the data prevents overfitting and ensures the model performs well on real-world data.\n",
        "\n",
        "---\n",
        "\n",
        "## Q7: How can unsupervised learning be used in anomaly detection?\n",
        "Unsupervised learning can detect anomalies by identifying data points that deviate significantly from the normal patterns in the dataset.\n",
        "\n",
        "**Example**:\n",
        "- Using clustering techniques like k-means, an anomaly could be identified as a point far from all cluster centroids.\n",
        "- Autoencoders can also be used to detect anomalies by measuring reconstruction error.\n",
        "\n",
        "---\n",
        "\n",
        "## Q8: List down some commonly used supervised learning algorithms and unsupervised learning algorithms.\n",
        "\n",
        "**Supervised Learning Algorithms**:\n",
        "1. Linear Regression\n",
        "2. Logistic Regression\n",
        "3. Decision Trees\n",
        "4. Random Forest\n",
        "5. Support Vector Machines (SVM)\n",
        "6. Neural Networks (for classification and regression tasks)\n",
        "\n",
        "**Unsupervised Learning Algorithms**:\n",
        "1. k-Means Clustering\n",
        "2. Hierarchical Clustering\n",
        "3. Principal Component Analysis (PCA)\n",
        "4. DBSCAN (Density-Based Spatial Clustering)\n",
        "5. Autoencoders (for anomaly detection)\n"
      ],
      "metadata": {
        "id": "nuFh5PjozG7p"
      }
    },
    {
      "cell_type": "code",
      "execution_count": null,
      "metadata": {
        "id": "Y7HxsWdBzCuE"
      },
      "outputs": [],
      "source": []
    }
  ]
}