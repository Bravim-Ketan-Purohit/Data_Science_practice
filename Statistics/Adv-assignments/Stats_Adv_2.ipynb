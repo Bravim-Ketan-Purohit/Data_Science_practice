{
  "nbformat": 4,
  "nbformat_minor": 0,
  "metadata": {
    "colab": {
      "provenance": []
    },
    "kernelspec": {
      "name": "python3",
      "display_name": "Python 3"
    },
    "language_info": {
      "name": "python"
    }
  },
  "cells": [
    {
      "cell_type": "markdown",
      "source": [
        "## Q1\n",
        "\n",
        "### **PMF (Probability Mass Function)**:\n",
        "- **Definition**: Describes the probability of a discrete random variable taking a specific value.\n",
        "- **Formula**: \\( P(X = x) \\)\n",
        "- **Key Point**: Used for **discrete distributions** like Binomial or Poisson.\n",
        "- **Example**:\n",
        "  - In a coin toss, \\( P(X = 1) = 0.5 \\) (probability of getting heads).\n",
        "\n",
        "\n",
        "\n",
        "### **PDF (Probability Density Function)**:\n",
        "- **Definition**: Represents the likelihood of a continuous random variable falling within a certain range.\n",
        "- **Formula**: \\( f(x) \\), where \\( \\int_a^b f(x)dx \\) gives the probability that \\( X \\in [a, b] \\).\n",
        "- **Key Point**: Used for **continuous distributions** like Normal or Exponential.\n",
        "- **Example**:\n",
        "  - For human heights, the PDF shows how height values are distributed. The probability of a person being exactly 5.5 feet tall is 0, but we can calculate the probability of being between 5.4 and 5.6 feet.\n",
        "\n",
        "\n",
        "\n",
        "### Key Difference:\n",
        "- **PMF** is for specific values (discrete).\n",
        "- **PDF** is for ranges of values (continuous)."
      ],
      "metadata": {
        "id": "Hk50fMMRrIOc"
      }
    },
    {
      "cell_type": "markdown",
      "source": [
        "## Q2\n",
        "\n",
        "### **Cumulative Density Function (CDF)**:\n",
        "- **Definition**: Represents the probability that a random variable \\(X\\) takes a value less than or equal to a given value \\(x\\).\n",
        "- **Formula**:\n",
        "  \\[\n",
        "  F(x) = P(X \\leq x)\n",
        "  \\]\n",
        "- **Key Point**: Applies to both discrete and continuous distributions.\n",
        "\n",
        "\n",
        "### **Example**:\n",
        "- For a continuous random variable (e.g., height):\n",
        "  - If \\(F(5.5) = 0.75\\), it means 75% of individuals have a height \\( \\leq 5.5 \\) feet.\n",
        "- For a discrete random variable (e.g., dice roll):\n",
        "  - If \\(F(3) = 0.5\\), it means there's a 50% chance of rolling a number \\( \\leq 3 \\).\n",
        "\n",
        "In short, the CDF provides a cumulative perspective of probability up to a certain point."
      ],
      "metadata": {
        "id": "V0wRVdRPrV3u"
      }
    },
    {
      "cell_type": "markdown",
      "source": [
        "## Q3\n",
        "\n",
        "### **Examples of Normal Distribution Usage**:\n",
        "1. Heights of people in a population.\n",
        "2. Test scores in standardized exams.\n",
        "3. Measurement errors in scientific experiments.\n",
        "4. Daily stock market returns.\n",
        "\n",
        "\n",
        "### **Relation Between Parameters and Shape**:\n",
        "1. **Mean**:\n",
        "   - Determines the **center** of the distribution (where the peak is).\n",
        "2. **Standard Deviation**:\n",
        "   - Controls the **spread** of the distribution:\n",
        "     - Larger \\(\\sigma\\): Wider and flatter curve.\n",
        "     - Smaller \\(\\sigma\\): Narrower and taller curve.\n",
        "\n",
        "The normal distribution is symmetric around \\(\\mu\\), with \\(\\sigma\\) defining its width.\n"
      ],
      "metadata": {
        "id": "xiEYV_bSrpGt"
      }
    },
    {
      "cell_type": "markdown",
      "source": [
        "## Q4\n",
        "\n",
        "### Importance of Normal Distribution  \n",
        "1. **Central Limit Theorem (CLT):** Many sample means follow a normal distribution, enabling reliable statistical inference.  \n",
        "2. **Natural Occurrence:** Many real-world phenomena naturally follow this distribution.  \n",
        "3. **Statistical Basis:** Forms the foundation for many statistical tests and models.  \n",
        "4. **Predictive Power:** Facilitates probability estimation and confidence intervals.  \n",
        "5. **Simplicity:** Simplifies analysis due to its mathematical properties.  \n",
        "\n",
        "### Real-Life Examples  \n",
        "1. **Heights:** Human heights within a population.  \n",
        "2. **Test Scores:** Standardized test results like IQ or SAT.  \n",
        "3. **Measurement Errors:** Errors in repeated measurements.  \n",
        "4. **Temperatures:** Daily temperatures over time.  \n",
        "5. **Blood Pressure:** Distribution in healthy populations."
      ],
      "metadata": {
        "id": "u_PFM4KOsPPP"
      }
    },
    {
      "cell_type": "markdown",
      "source": [
        "## Q5\n",
        "\n",
        "### Bernoulli Distribution  \n",
        "The **Bernoulli distribution** models a single trial with only two possible outcomes: success (1) or failure (0), with a probability \\( p \\) for success.  \n",
        "\n",
        "#### Example:  \n",
        "Tossing a coin once, where success is getting heads (\\( p = 0.5 \\)).  \n",
        "\n",
        "\n",
        "### Difference Between Bernoulli and Binomial Distributions  \n",
        "1. **Trials:**\n",
        "   - **Bernoulli:** Single trial.\n",
        "   - **Binomial:** Multiple independent Bernoulli trials (\\( n \\) trials).  \n",
        "\n",
        "2. **Output:**\n",
        "   - **Bernoulli:** Single binary outcome (0 or 1).  \n",
        "   - **Binomial:** Number of successes in \\( n \\) trials (0 to \\( n \\)).  \n",
        "\n",
        "#### Example:  \n",
        "- **Bernoulli:** Toss a coin once.  \n",
        "- **Binomial:** Toss a coin 10 times and count the number of heads.  "
      ],
      "metadata": {
        "id": "KHKs3K7asSdO"
      }
    },
    {
      "cell_type": "markdown",
      "source": [
        "## Q6\n",
        "\n",
        "To calculate the probability that a randomly selected observation is greater than 60 in a normally distributed dataset, we use the **Z-score formula** and the **standard normal distribution table**:\n",
        "\n",
        "### Step 1: Z-Score Formula  \n",
        "The Z-score formula is:  \n",
        "Z= X−μ/σ\n",
        "​\n",
        "\n",
        "Where:  \n",
        "- \\( X \\) = observed value (60)  \n",
        "- \\( μ ) = mean (50)  \n",
        "- \\( σ ) = standard deviation (10)\n",
        "\n",
        "Substitute the values:  \n",
        "\\[\n",
        "Z = \\frac{60 - 50}{10} = \\frac{10}{10} = 1\n",
        "\\]\n",
        "\n",
        "---\n",
        "\n",
        "### Step 2: Find the Probability  \n",
        "Using the Z-score of \\( 1 \\), we look up the cumulative probability in a standard normal distribution table. The cumulative probability for \\( Z = 1 \\) is approximately **0.8413**.  \n",
        "\n",
        "This means the probability of a value being less than 60 is **0.8413**.  \n",
        "\n",
        "---\n",
        "\n",
        "### Step 3: Probability Greater Than 60  \n",
        "The probability of a value being greater than 60 is:  \n",
        "\\[\n",
        "P(X > 60) = 1 - P(X \\leq 60) = 1 - 0.8413 = 0.1587\n",
        "\\]\n",
        "\n",
        "---\n",
        "\n",
        "### Final Answer  \n",
        "The probability that a randomly selected observation is greater than 60 is **0.1587** (or 15.87%).\n"
      ],
      "metadata": {
        "id": "lYmoVLIAslR_"
      }
    },
    {
      "cell_type": "markdown",
      "source": [
        "## Q7\n",
        "\n",
        "### Uniform Distribution  \n",
        "A **uniform distribution** is a probability distribution where all outcomes are equally likely within a given range \\([a, b]\\).  \n",
        "\n",
        "#### Example:  \n",
        "Rolling a fair six-sided die: Each face (1 to 6) has an equal probability of \\( \\frac{1}{6} \\).  "
      ],
      "metadata": {
        "id": "rWfQFIZIvVDd"
      }
    },
    {
      "cell_type": "markdown",
      "source": [
        "## Q8\n",
        "\n",
        "### Z-Score  \n",
        "The **Z-score** measures how many standard deviations a data point is from the mean. It is calculated as:  \n",
        "\\[\n",
        "Z = \\frac{X - \\mu}{\\sigma}\n",
        "\\]  \n",
        "Where:  \n",
        "- \\( X \\): Data point  \n",
        "- \\( \\mu \\): Mean  \n",
        "- \\( \\sigma \\): Standard deviation  \n",
        "\n",
        "### Importance of Z-Score  \n",
        "1. **Standardization:** Converts data to a common scale, enabling comparison across different datasets.  \n",
        "2. **Outlier Detection:** Identifies values far from the mean.  \n",
        "3. **Probability Estimation:** Links data to the standard normal distribution for probability calculations.  \n",
        "4. **Hypothesis Testing:** Essential in z-tests for determining statistical significance.  "
      ],
      "metadata": {
        "id": "T6MRhcG0viWH"
      }
    },
    {
      "cell_type": "markdown",
      "source": [
        "## Q9\n",
        "\n",
        "### Central Limit Theorem (CLT)  \n",
        "The **Central Limit Theorem** states that, for a sufficiently large sample size, the sampling distribution of the sample mean will approximate a normal distribution, regardless of the shape of the population distribution.  \n",
        "\n",
        "### Significance of CLT  \n",
        "1. **Foundation of Inference:** Allows the use of normal distribution in hypothesis testing and confidence intervals, even for non-normal populations.  \n",
        "2. **Simplifies Analysis:** Enables the application of statistical techniques that assume normality.  \n",
        "3. **Real-World Applications:** Useful in areas like quality control, finance, and experimental research to make predictions and decisions."
      ],
      "metadata": {
        "id": "3MYTwokTvnGC"
      }
    },
    {
      "cell_type": "markdown",
      "source": [
        "## Q10\n",
        "\n",
        "The assumptions in central linit theorem are...\n",
        "\n",
        "### Assumptions of the Central Limit Theorem (CLT)  \n",
        "\n",
        "1. **Independence:**  \n",
        "   - The samples must be independent of each other.\n",
        "\n",
        "2. **Random Sampling:**  \n",
        "   - Samples should be randomly selected from the population.\n",
        "\n",
        "3. **Sample Size:**  \n",
        "   - The sample size should be sufficiently large. A common rule of thumb is \\( n \\geq 30 \\), but smaller samples may work if the population distribution is approximately normal.\n",
        "\n",
        "4. **Finite Variance:**  \n",
        "   - The population should have a finite mean and variance.\n",
        "\n",
        "5. **Identical Distribution (for specific cases):**  \n",
        "   - If the data comes from a population with extreme skewness, larger sample sizes may be required for the CLT to hold."
      ],
      "metadata": {
        "id": "vASbrtJewILe"
      }
    },
    {
      "cell_type": "code",
      "execution_count": null,
      "metadata": {
        "id": "sUMWGT2Bq3Nb"
      },
      "outputs": [],
      "source": []
    }
  ]
}