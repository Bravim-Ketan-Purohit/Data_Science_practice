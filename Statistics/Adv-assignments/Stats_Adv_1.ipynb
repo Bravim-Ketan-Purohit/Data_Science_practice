{
  "nbformat": 4,
  "nbformat_minor": 0,
  "metadata": {
    "colab": {
      "provenance": []
    },
    "kernelspec": {
      "name": "python3",
      "display_name": "Python 3"
    },
    "language_info": {
      "name": "python"
    }
  },
  "cells": [
    {
      "cell_type": "markdown",
      "source": [
        "## Q1\n",
        "\n",
        "PDF probablity density function is a plotting of continous random variable"
      ],
      "metadata": {
        "id": "8HCLrmnqH4kC"
      }
    },
    {
      "cell_type": "markdown",
      "source": [
        "## Q2\n",
        "\n",
        "there are two major types of probablity distribution PDF and PMF and subtypes of those are Normal/Gaussian, Bernaulii, Uniform, Log normal, Possion Law etc."
      ],
      "metadata": {
        "id": "rqlp7ftvIBXw"
      }
    },
    {
      "cell_type": "markdown",
      "source": [
        "## Q3\n",
        "\n",
        "![image.png](data:image/png;base64,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)"
      ],
      "metadata": {
        "id": "0wtKjoaiIb5Z"
      }
    },
    {
      "cell_type": "code",
      "execution_count": 5,
      "metadata": {
        "id": "2mnVSe7vH39I"
      },
      "outputs": [],
      "source": [
        "import math as mt\n",
        "def pdf(mean,std,x):\n",
        "  term1 = 1/std*(mt.sqrt(2*mt.pi))\n",
        "  term2 = -((x - mean) ** 2) / (2 * std ** 2)\n",
        "  ans = term1*mt.exp(term2)\n",
        "  return ans"
      ]
    },
    {
      "cell_type": "code",
      "source": [
        "mean = 1\n",
        "std=2\n",
        "x = 30\n",
        "print(pdf(mean=1,std=2,x=30))"
      ],
      "metadata": {
        "colab": {
          "base_uri": "https://localhost:8080/"
        },
        "id": "u7gGpDUGLCs3",
        "outputId": "68c80672-8223-4bd3-9710-b545463167e3"
      },
      "execution_count": 6,
      "outputs": [
        {
          "output_type": "stream",
          "name": "stdout",
          "text": [
            "2.772378539791708e-46\n"
          ]
        }
      ]
    },
    {
      "cell_type": "markdown",
      "source": [
        "## Q4\n",
        "\n",
        "The binomial distribution describes the probability of obtaining a fixed number of \"successes\" in a specific number of independent trials, where each trial has only two possible outcomes: success or failure.\n",
        "\n",
        "example :\n",
        "1.  Suppose you're flipping a coin 10 times, and you want to know the probability of getting exactly 6 heads.\n",
        "2.  Imagine you're playing basketball, and you're shooting 10 free throws. Each time you shoot, there's a 70% chance you'll score (success) and a 30% chance you'll miss (failure). You want to know the probability of scoring exactly 7 times out of 10 attempts.\n",
        "\n"
      ],
      "metadata": {
        "id": "m53VDDKHLxHt"
      }
    },
    {
      "cell_type": "markdown",
      "source": [
        "## Q5"
      ],
      "metadata": {
        "id": "e403dq36N2g4"
      }
    },
    {
      "cell_type": "code",
      "source": [
        "from scipy.stats import binom\n",
        "import matplotlib.pyplot as plt\n",
        "from numpy import random\n",
        "import numpy as np"
      ],
      "metadata": {
        "id": "T3-7z-rTLfY3"
      },
      "execution_count": 9,
      "outputs": []
    },
    {
      "cell_type": "code",
      "source": [
        "n=10\n",
        "p=0.5\n",
        "size=1000\n",
        "x = random.binomial(n,p,size)\n",
        "plt.hist(x,bins=np.arange(-0.5,n+1.5,1),density=True, color='blue', edgecolor='black', alpha=0.7)\n",
        "plt.xticks(range(n + 1))"
      ],
      "metadata": {
        "colab": {
          "base_uri": "https://localhost:8080/",
          "height": 823
        },
        "id": "ieph0slyOfnv",
        "outputId": "c4689d10-4121-4e28-b340-6c285fe2395b"
      },
      "execution_count": 16,
      "outputs": [
        {
          "output_type": "execute_result",
          "data": {
            "text/plain": [
              "([<matplotlib.axis.XTick at 0x78a02b961900>,\n",
              "  <matplotlib.axis.XTick at 0x78a02b961870>,\n",
              "  <matplotlib.axis.XTick at 0x78a02b963d90>,\n",
              "  <matplotlib.axis.XTick at 0x78a02b84a440>,\n",
              "  <matplotlib.axis.XTick at 0x78a02b849f00>,\n",
              "  <matplotlib.axis.XTick at 0x78a02b849b40>,\n",
              "  <matplotlib.axis.XTick at 0x78a02b9b70a0>,\n",
              "  <matplotlib.axis.XTick at 0x78a02b8483d0>,\n",
              "  <matplotlib.axis.XTick at 0x78a02b9b4af0>,\n",
              "  <matplotlib.axis.XTick at 0x78a02b9b71f0>,\n",
              "  <matplotlib.axis.XTick at 0x78a02b9b5870>],\n",
              " [Text(0, 0, '0'),\n",
              "  Text(1, 0, '1'),\n",
              "  Text(2, 0, '2'),\n",
              "  Text(3, 0, '3'),\n",
              "  Text(4, 0, '4'),\n",
              "  Text(5, 0, '5'),\n",
              "  Text(6, 0, '6'),\n",
              "  Text(7, 0, '7'),\n",
              "  Text(8, 0, '8'),\n",
              "  Text(9, 0, '9'),\n",
              "  Text(10, 0, '10')])"
            ]
          },
          "metadata": {},
          "execution_count": 16
        },
        {
          "output_type": "display_data",
          "data": {
            "text/plain": [
              "<Figure size 640x480 with 1 Axes>"
            ],
            "image/png": "[encoded data removed]"
          },
          "metadata": {}
        }
      ]
    },
    {
      "cell_type": "markdown",
      "source": [
        "## Q6"
      ],
      "metadata": {
        "id": "7LmwRtumem_K"
      }
    },
    {
      "cell_type": "code",
      "source": [
        "import math\n",
        "\n",
        "def poisson_cdf(k, mean):\n",
        "    if k < 0 or not isinstance(k, int):\n",
        "        raise ValueError(\"k must be a non-negative integer.\")\n",
        "    if mean < 0:\n",
        "        raise ValueError(\"Mean (λ) must be non-negative.\")\n",
        "    cdf = 0.0\n",
        "    for i in range(0, k + 1):\n",
        "        cdf += (mean ** i) * math.exp(-mean) / math.factorial(i)\n",
        "\n",
        "    return cdf"
      ],
      "metadata": {
        "id": "jgnEJzF_ScAY"
      },
      "execution_count": 19,
      "outputs": []
    },
    {
      "cell_type": "code",
      "source": [
        "mean = 3.0\n",
        "k = 5\n",
        "result = poisson_cdf(k, mean)\n",
        "print(f\"The CDF of a Poisson distribution with mean {mean} at k={k} is {result:.4f}\")"
      ],
      "metadata": {
        "colab": {
          "base_uri": "https://localhost:8080/"
        },
        "id": "vWc8XZQAesqd",
        "outputId": "2eef25f6-60d5-453e-bc15-296bd7b81016"
      },
      "execution_count": 20,
      "outputs": [
        {
          "output_type": "stream",
          "name": "stdout",
          "text": [
            "The CDF of a Poisson distribution with mean 3.0 at k=5 is 0.9161\n"
          ]
        }
      ]
    },
    {
      "cell_type": "markdown",
      "source": [
        "## Q7\n",
        "\n",
        "\n",
        "### **Binomial Distribution**\n",
        "1. **Scenario**: Models the number of successes in a fixed number of trials (\\(n\\)).\n",
        "2. **Parameters**:\n",
        "   - \\(n\\): Number of trials.\n",
        "   - \\(p\\): Probability of success in each trial.\n",
        "3. **Key Features**:\n",
        "   - Trials are independent.\n",
        "   - Outcomes are discrete (e.g., heads/tails, pass/fail).\n",
        "   - \\(X \\in \\{0, 1, 2, ..., n\\}\\).\n",
        "4. **Example**: Flipping a coin 10 times and counting heads.\n",
        "\n",
        "\n",
        "\n",
        "### **Poisson Distribution**\n",
        "1. **Scenario**: Models the number of events in a fixed interval of time or space.\n",
        "2. **Parameters**:\n",
        "   - \\(\\lambda\\): Average rate of occurrence (mean).\n",
        "3. **Key Features**:\n",
        "   - No upper limit for \\(X\\) (\\(X \\in \\{0, 1, 2, \\dots\\}\\)).\n",
        "   - Used when events occur randomly and independently.\n",
        "   - Derived as a limiting case of the binomial distribution when \\(n\\) is large, \\(p\\) is small, and \\(np = \\lambda\\).\n",
        "4. **Example**: Number of customer arrivals at a shop in an hour.\n",
        "\n",
        "\n",
        "\n",
        "### **Key Difference**\n",
        "- **Binomial**: Fixed number of trials with success/failure in each.\n",
        "- **Poisson**: Focuses on events over time/space, with no fixed number of trials.\n",
        "\n",
        "Let me know if you'd like a deeper dive into these concepts! 😊"
      ],
      "metadata": {
        "id": "NjFl7J8ifDUr"
      }
    },
    {
      "cell_type": "markdown",
      "source": [
        "## Q8"
      ],
      "metadata": {
        "id": "i6P9Ih1mfcnA"
      }
    },
    {
      "cell_type": "code",
      "source": [
        "mean = 5\n",
        "sample_size = 1000\n",
        "random_sample = np.random.poisson(mean, sample_size)\n",
        "sample_mean = np.mean(random_sample)\n",
        "sample_variance = np.var(random_sample)\n",
        "ans = {'mean':sample_mean, 'variance':sample_variance}\n",
        "ans"
      ],
      "metadata": {
        "colab": {
          "base_uri": "https://localhost:8080/"
        },
        "id": "LAvdq-05eymN",
        "outputId": "233c68f1-1706-4f30-bf02-ff93bbc721d0"
      },
      "execution_count": 24,
      "outputs": [
        {
          "output_type": "execute_result",
          "data": {
            "text/plain": [
              "{'mean': 4.976, 'variance': 5.3774239999999995}"
            ]
          },
          "metadata": {},
          "execution_count": 24
        }
      ]
    },
    {
      "cell_type": "markdown",
      "source": [
        "## Q9\n",
        "\n",
        "\n",
        "\n",
        "### **Binomial Distribution**\n",
        "- **Mean**: \\(\\mu = n \\cdot p\\)\n",
        "- **Variance**: \\(\\sigma^2 = n \\cdot p \\cdot (1-p)\\)\n",
        "\n",
        "#### Relationship:\n",
        "- The variance depends on both the number of trials (\\(n\\)) and the probability of success (\\(p\\)).\n",
        "- The variance is less than or equal to the mean since \\((1-p) \\leq 1\\).\n",
        "\n",
        "\n",
        "\n",
        "### **Poisson Distribution**\n",
        "- **Mean**: \\(\\mu = \\lambda\\)\n",
        "- **Variance**: \\(\\sigma^2 = \\lambda\\)\n",
        "\n",
        "#### Relationship:\n",
        "- In a Poisson distribution, the mean and variance are **equal**.\n",
        "- This property is unique to the Poisson distribution and reflects its random and independent event occurrences.\n",
        "\n"
      ],
      "metadata": {
        "id": "f8kuWfHdf87Z"
      }
    },
    {
      "cell_type": "markdown",
      "source": [
        "## Q10\n",
        "\n",
        "In a **normal distribution**, the **least frequent data** appears at the **tails** of the distribution, which are farthest from the **mean**.\n",
        "\n",
        "### **Explanation**:\n",
        "- The **mean** is the center of the bell curve, where the data is most concentrated, and the frequency is highest.\n",
        "- As you move away from the mean (either to the left or right), the frequency decreases.\n",
        "- The least frequent data points are located in the **extreme tails** (i.e., values much smaller or much larger than the mean).\n",
        "\n",
        "\n",
        "\n",
        "### **Mathematically**:\n",
        "- The **probability density function (PDF)** of the normal distribution is:\n",
        "  \\[\n",
        "  f(x) = \\frac{1}{\\sqrt{2\\pi}\\sigma} e^{-\\frac{(x-\\mu)^2}{2\\sigma^2}}\n",
        "  \\]\n",
        "  - The farther \\(x\\) is from the mean (\\(\\mu\\)), the smaller \\(f(x)\\), meaning less frequent occurrences.\n",
        "\n"
      ],
      "metadata": {
        "id": "3Q-3W9cVgTTa"
      }
    },
    {
      "cell_type": "code",
      "source": [],
      "metadata": {
        "id": "NEv452KCfiQ3"
      },
      "execution_count": null,
      "outputs": []
    }
  ]
}