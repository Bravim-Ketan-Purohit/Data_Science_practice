{
  "nbformat": 4,
  "nbformat_minor": 0,
  "metadata": {
    "colab": {
      "provenance": []
    },
    "kernelspec": {
      "name": "python3",
      "display_name": "Python 3"
    },
    "language_info": {
      "name": "python"
    }
  },
  "cells": [
    {
      "cell_type": "markdown",
      "source": [
        "## Q1\n",
        "\n",
        "### Estimation Statistics in Inferential Statistics  \n",
        "\n",
        "**Estimation statistics** is a key part of inferential statistics. It focuses on estimating population parameters based on sample data.  \n",
        "\n",
        "#### Point Estimation  \n",
        "- A **point estimate** provides a single numeric value as an estimate for an unknown population parameter.  \n",
        "- While simple, it is prone to errors due to sample variability.  \n",
        "\n",
        "#### Interval Estimation  \n",
        "- To reduce estimation error, a **range-based approach** called interval estimation is used.  \n",
        "- An **interval estimate** provides a range of values within which the population parameter is likely to fall.  \n",
        "- This method acknowledges uncertainty by giving a probabilistic statement, such as \"the parameter lies within the range \\( A \\) to \\( B \\).\"  "
      ],
      "metadata": {
        "id": "0Gv_BhI867q5"
      }
    },
    {
      "cell_type": "markdown",
      "source": [
        "## Q2\n",
        "\n"
      ],
      "metadata": {
        "id": "PN4uW0O98RpP"
      }
    },
    {
      "cell_type": "code",
      "execution_count": 1,
      "metadata": {
        "id": "wSnWyPbI6nus"
      },
      "outputs": [],
      "source": [
        "import math\n",
        "\n",
        "def estimate_population_mean(sample_mean, sample_std_dev, sample_size):\n",
        "\n",
        "  # Calculate the standard error of the mean\n",
        "  standard_error = sample_std_dev / math.sqrt(sample_size)\n",
        "\n",
        "  # Calculate the 95% confidence interval\n",
        "  z_critical = 1.96  # For a 95% confidence level\n",
        "  margin_of_error = z_critical * standard_error\n",
        "  lower_bound = sample_mean - margin_of_error\n",
        "  upper_bound = sample_mean + margin_of_error\n",
        "\n",
        "  return sample_mean, standard_error, (lower_bound, upper_bound)"
      ]
    },
    {
      "cell_type": "code",
      "source": [
        "sample_mean = 50\n",
        "sample_std_dev = 10\n",
        "sample_size = 100\n",
        "\n",
        "population_mean_estimate, standard_error, confidence_interval = estimate_population_mean(sample_mean, sample_std_dev, sample_size)\n",
        "\n",
        "print(\"Estimated Population Mean:\", population_mean_estimate)\n",
        "print(\"Standard Error:\", standard_error)\n",
        "print(\"95% Confidence Interval:\", confidence_interval)"
      ],
      "metadata": {
        "colab": {
          "base_uri": "https://localhost:8080/"
        },
        "id": "uEzIK__VQuNa",
        "outputId": "347ba3f8-79d2-4a7b-d040-019e4fd27798"
      },
      "execution_count": 2,
      "outputs": [
        {
          "output_type": "stream",
          "name": "stdout",
          "text": [
            "Estimated Population Mean: 50\n",
            "Standard Error: 1.0\n",
            "95% Confidence Interval: (48.04, 51.96)\n"
          ]
        }
      ]
    },
    {
      "cell_type": "markdown",
      "source": [
        "## Q3\n",
        "\n",
        "* **Definition:** Hypothesis testing is a statistical method used to determine whether there is enough evidence in a sample of data to support a particular claim about a population.\n",
        "* **Core Idea:** It involves formulating two opposing hypotheses:\n",
        "    * **Null Hypothesis (H0):** A statement of no effect or no difference. It's the default assumption.\n",
        "    * **Alternative Hypothesis (H1 or Ha):** The claim or statement we want to investigate.\n",
        "\n",
        "* **Process:**\n",
        "    1. **Formulate Hypotheses:** Clearly state the null and alternative hypotheses.\n",
        "    2. **Collect Data:** Gather a sample of data relevant to the hypothesis.\n",
        "    3. **Calculate Test Statistic:** Compute a value based on the sample data that measures how likely the observed results are under the null hypothesis.\n",
        "    4. **Determine P-value:** Calculate the probability of observing the test statistic (or a more extreme value) if the null hypothesis were true.\n",
        "    5. **Make a Decision:**\n",
        "        * If the p-value is less than a predetermined significance level (e.g., 0.05), reject the null hypothesis. This suggests that the observed results are unlikely to have occurred by chance.\n",
        "        * If the p-value is greater than the significance level, fail to reject the null hypothesis.\n",
        "\n",
        "**Why is it Used?**\n",
        "\n",
        "* **Decision Making:** Helps make informed decisions based on evidence rather than assumptions or beliefs.\n",
        "* **Research:** Essential for drawing valid conclusions from experiments and studies.\n",
        "* **Risk Assessment:** Helps evaluate the likelihood of certain events or outcomes.\n",
        "* **Quality Control:** Used to monitor and improve product quality and manufacturing processes.\n",
        "\n",
        "**Importance of Hypothesis Testing**\n",
        "\n",
        "* **Objectivity:** Provides a systematic and objective way to analyze data and draw conclusions.\n",
        "* **Reduces Bias:** Minimizes the influence of personal opinions and biases in decision-making.\n",
        "* **Increases Reliability:** Helps ensure that research findings are reliable and can be replicated.\n",
        "* **Improves Communication:** Provides a common language for discussing and interpreting research results.\n",
        "* **Advances Knowledge:** Drives scientific discovery and advances in various fields.\n",
        "\n",
        "**In essence, hypothesis testing is a crucial tool for making evidence-based decisions and advancing our understanding of the world around us.**\n"
      ],
      "metadata": {
        "id": "4jGt64rzRLxq"
      }
    },
    {
      "cell_type": "markdown",
      "source": [
        "## Q4\n",
        "\n",
        "Certainly! Here's a hypothesis that states whether the average weight of male college students is greater than the average weight of female college students:\n",
        "\n",
        "**Null Hypothesis (H0):**\n",
        "* The average weight of male college students is equal to or less than the average weight of female college students.\n",
        "\n",
        "**Alternative Hypothesis (H1):**\n",
        "* The average weight of male college students is greater than the average weight of female college students.\n",
        "\n",
        "**In symbols:**\n",
        "\n",
        "* **H0:** μ_males ≤ μ_females\n",
        "* **H1:** μ_males > μ_females\n",
        "\n",
        "where:\n",
        "\n",
        "* μ_males represents the population mean weight of male college students\n",
        "* μ_females represents the population mean weight of female college students\n",
        "\n",
        "This hypothesis sets up a one-tailed test, as we are specifically interested in whether males weigh *more* than females.\n"
      ],
      "metadata": {
        "id": "mlD8ReZLS0lx"
      }
    },
    {
      "cell_type": "markdown",
      "source": [
        "## Q5"
      ],
      "metadata": {
        "id": "nO4ubNBNS4AR"
      }
    },
    {
      "cell_type": "code",
      "source": [
        "import numpy as np\n",
        "from scipy.stats import ttest_ind\n",
        "\n",
        "def hypothesis_test_means(sample1, sample2, alpha=0.05):\n",
        "\n",
        "    t_stat, p_value = ttest_ind(sample1, sample2, equal_var=True)\n",
        "    reject_null = p_value < alpha\n",
        "\n",
        "    return {\n",
        "        \"t_statistic\": t_stat,\n",
        "        \"p_value\": p_value,\n",
        "        \"reject_null\": reject_null,\n",
        "        \"alpha\": alpha,\n",
        "        \"interpretation\": \"Reject the null hypothesis\" if reject_null else \"Fail to reject the null hypothesis\"\n",
        "    }\n"
      ],
      "metadata": {
        "id": "vtP5hX2FQxHF"
      },
      "execution_count": 5,
      "outputs": []
    },
    {
      "cell_type": "code",
      "source": [
        "# Example usage\n",
        "sample1 = [50, 52, 54, 56, 58]\n",
        "sample2 = [60, 62, 64, 66, 68]\n",
        "\n",
        "results = hypothesis_test_means(sample1, sample2)\n",
        "\n",
        "# Print results\n",
        "print(\"Hypothesis Test Results:\")\n",
        "print(f\"  t-statistic: {results['t_statistic']}\")\n",
        "print(f\"  p-value: {results['p_value']}\")\n",
        "print(f\"  Reject Null Hypothesis: {results['reject_null']}\")\n",
        "print(f\"  Interpretation: {results['interpretation']}\")"
      ],
      "metadata": {
        "colab": {
          "base_uri": "https://localhost:8080/"
        },
        "id": "KmYYM5TkV08N",
        "outputId": "e962be22-aad6-4cfa-b8bc-6e3b2de3f103"
      },
      "execution_count": 6,
      "outputs": [
        {
          "output_type": "stream",
          "name": "stdout",
          "text": [
            "Hypothesis Test Results:\n",
            "  t-statistic: -5.0\n",
            "  p-value: 0.001052825793366539\n",
            "  Reject Null Hypothesis: True\n",
            "  Interpretation: Reject the null hypothesis\n"
          ]
        }
      ]
    },
    {
      "cell_type": "markdown",
      "source": [
        "## Q6\n",
        "\n",
        "A null hypothesis (H₀) is the default assumption that there is no effect or relationship between variables, while the alternative hypothesis (H₁ or H₁) states that there is an effect or relationship.\n",
        "\n",
        "Quick examples:\n",
        "\n",
        "1. Testing a new drug\n",
        "- H₀: The drug has no effect on blood pressure\n",
        "- H₁: The drug affects blood pressure\n",
        "\n",
        "2. Student study habits\n",
        "- H₀: Hours spent studying has no effect on test scores\n",
        "- H₁: Hours spent studying affects test scores\n",
        "\n",
        "3. Marketing campaign\n",
        "- H₀: The new advertisement doesn't change sales\n",
        "- H₁: The new advertisement changes sales\n",
        "\n",
        "The null hypothesis is always assumed true until enough statistical evidence supports rejecting it in favor of the alternative hypothesis."
      ],
      "metadata": {
        "id": "zPeDr79SWZbt"
      }
    },
    {
      "cell_type": "markdown",
      "source": [
        "## Q7\n",
        "\n",
        "Yes, your general understanding is correct, but let me break down the steps more systematically:\n",
        "\n",
        "Steps in Hypothesis Testing:\n",
        "\n",
        "1. State the hypotheses\n",
        "   - Formulate null hypothesis (H₀)\n",
        "   - Formulate alternative hypothesis (H₁)\n",
        "\n",
        "2. Choose significance level (α)\n",
        "   - Typically 0.05 or 0.01\n",
        "   - Represents acceptable risk of Type I error\n",
        "\n",
        "3. Select appropriate test statistic\n",
        "   - z-test, t-test, chi-square test, etc.\n",
        "   - Based on data type and sample size\n",
        "\n",
        "4. Collect and organize data\n",
        "   - Gather sample data\n",
        "   - Calculate relevant statistics (mean, standard deviation)\n",
        "\n",
        "5. Calculate test statistic\n",
        "   - Use appropriate formula\n",
        "   - Find z-score, t-value, etc.\n",
        "\n",
        "6. Determine critical value(s)\n",
        "   - Find from statistical tables\n",
        "   - Define rejection region\n",
        "\n",
        "7. Calculate p-value\n",
        "   - Probability of getting results as extreme as observed\n",
        "   - Compare with significance level\n",
        "\n",
        "8. Make decision\n",
        "   - Reject H₀ if p-value < α\n",
        "   - Fail to reject H₀ if p-value > α\n",
        "\n",
        "9. State conclusion\n",
        "   - Interpret results in context of original problem\n",
        "   - Include confidence interval if applicable\n",
        "\n",
        "Your answer included the key elements but missed some specific steps like choosing significance level and determining critical values. Also, note that we don't \"accept\" the null hypothesis - we either \"reject\" or \"fail to reject\" it."
      ],
      "metadata": {
        "id": "-zwGJyxbXc7B"
      }
    },
    {
      "cell_type": "markdown",
      "source": [
        "## Q8\n",
        "\n",
        "### P-Value  \n",
        "The **p-value** is the probability of observing a test statistic as extreme as, or more extreme than, the one observed, assuming the null hypothesis (\\( H_0 \\)) is true.  \n",
        "\n",
        "\n",
        "\n",
        "### Significance of P-Value in Hypothesis Testing  \n",
        "1. **Decision-Making:**\n",
        "   - If \\( {p-value} ≤)α (significance level), reject the null hypothesis (\\( H_0 \\)).  \n",
        "   - If \\( {p-value} > α \\), fail to reject \\( H_0 \\).\n",
        "\n",
        "2. **Strength of Evidence:**  \n",
        "   - A smaller p-value indicates stronger evidence against \\( H_0 \\).  \n",
        "\n",
        "3. **Interpretation of Results:**  \n",
        "   - **High p-value:** Data is consistent with \\( H_0 \\).  \n",
        "   - **Low p-value:** Data suggests \\( H_0 \\) is unlikely.  \n",
        "\n",
        "4. **Flexible Thresholds:**  \n",
        "   - Common significance levels (\\( \\alpha \\)) are 0.05, 0.01, or 0.10, depending on the context.  \n",
        "\n",
        "\n",
        "\n",
        "### Example  \n",
        "- **Null Hypothesis (\\( H_0 \\)):** A drug has no effect.  \n",
        "- **Alternative Hypothesis (\\( H_a \\)):** The drug has an effect.  \n",
        "- **Result:** If \\( \\text{p-value} = 0.03 \\) and \\( \\alpha = 0.05 \\), reject \\( H_0 \\); the drug likely has an effect.  \n",
        "\n",
        "The p-value quantifies uncertainty and aids in making objective, evidence-based decisions."
      ],
      "metadata": {
        "id": "dYx_UsCQcVf_"
      }
    },
    {
      "cell_type": "markdown",
      "source": [
        "## Q9"
      ],
      "metadata": {
        "id": "aUHneAU8dcXT"
      }
    },
    {
      "cell_type": "code",
      "source": [
        "from scipy.stats import t\n",
        "import matplotlib.pyplot as plt\n",
        "import numpy as np"
      ],
      "metadata": {
        "id": "9sjY6LRxV2EF"
      },
      "execution_count": 7,
      "outputs": []
    },
    {
      "cell_type": "code",
      "source": [
        "x = np.linspace(-4,4,200)"
      ],
      "metadata": {
        "id": "gj-kOeSjdmgi"
      },
      "execution_count": 9,
      "outputs": []
    },
    {
      "cell_type": "code",
      "source": [
        "y = t.pdf(x,df=10)"
      ],
      "metadata": {
        "id": "x18Hq96DdqBC"
      },
      "execution_count": 16,
      "outputs": []
    },
    {
      "cell_type": "code",
      "source": [
        "plt.plot(x,y)\n",
        "plt.show()"
      ],
      "metadata": {
        "colab": {
          "base_uri": "https://localhost:8080/",
          "height": 430
        },
        "id": "g1xj45m3d22D",
        "outputId": "b9690c93-03a4-41b2-faab-762087c29faf"
      },
      "execution_count": 15,
      "outputs": [
        {
          "output_type": "display_data",
          "data": {
            "text/plain": [
              "<Figure size 640x480 with 1 Axes>"
            ],
            "image/png": "[encoded data removed]"
          },
          "metadata": {}
        }
      ]
    },
    {
      "cell_type": "markdown",
      "source": [
        "## Q10"
      ],
      "metadata": {
        "id": "RpX2VU62g6-z"
      }
    },
    {
      "cell_type": "code",
      "source": [
        "import numpy as np\n",
        "from scipy.stats import ttest_ind\n",
        "data_group1 = np.array([14, 15, 15, 16, 13, 8, 14,\n",
        "                        17, 16, 14, 19, 20, 21, 15,\n",
        "                        15, 16, 16, 13, 14, 12])\n",
        "data_group2 = np.array([15, 17, 14, 17, 14, 8, 12,\n",
        "                        19, 19, 14, 17, 22, 24, 16,\n",
        "                        13, 16, 13, 18, 15, 13])\n",
        "t_stat, p_value = ttest_ind(a=data_group1, b=data_group2, equal_var=True)\n",
        "print(\"Two-Sample T-Test Results:\")\n",
        "print(f\"T-Statistic: {t_stat}\")\n",
        "print(f\"P-Value: {p_value}\")\n",
        "alpha = 0.05\n",
        "if p_value < alpha:\n",
        "    print(\"Reject the null hypothesis: The population means are significantly different.\")\n",
        "else:\n",
        "    print(\"Fail to reject the null hypothesis: No significant difference between population means.\")\n"
      ],
      "metadata": {
        "colab": {
          "base_uri": "https://localhost:8080/"
        },
        "id": "bj9hRkqNg6fS",
        "outputId": "6852ca79-ce72-4663-803f-513da82f3888"
      },
      "execution_count": 19,
      "outputs": [
        {
          "output_type": "stream",
          "name": "stdout",
          "text": [
            "Two-Sample T-Test Results:\n",
            "T-Statistic: -0.6337397070250238\n",
            "P-Value: 0.5300471010405257\n",
            "Fail to reject the null hypothesis: No significant difference between population means.\n"
          ]
        }
      ]
    },
    {
      "cell_type": "markdown",
      "source": [
        "## Q11\n",
        "\n",
        "### Student’s t-Distribution  \n",
        "The **t-distribution** is a probability distribution used to estimate population parameters when the sample size is small, and/or the population standard deviation is unknown. It has heavier tails compared to the normal distribution.\n",
        "\n",
        "\n",
        "\n",
        "### When to Use the t-Distribution  \n",
        "1. **Small Sample Sizes:** Typically \\( n < 30 \\).  \n",
        "2. **Unknown Population Standard Deviation:** Use sample standard deviation instead.  \n",
        "3. **Near-Normal Population:** The data should be approximately normally distributed or the sample size should be large enough for the Central Limit Theorem to apply.  \n",
        "\n",
        "It is commonly used in **t-tests** for hypothesis testing and constructing confidence intervals."
      ],
      "metadata": {
        "id": "e99SqGdui9xk"
      }
    },
    {
      "cell_type": "markdown",
      "source": [
        "## Q12\n",
        "\n",
        "In statistics, the t-statistic is the ratio of the difference in a number’s estimated value from its assumed value to its standard error.\n",
        "\n",
        "![image.png](data:image/png;base64,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)"
      ],
      "metadata": {
        "id": "5vC9QeA0kcN2"
      }
    },
    {
      "cell_type": "markdown",
      "source": [
        "## Q13\n",
        "\n",
        "## Estimating Population Mean Revenue with a 95% Confidence Interval\n",
        "\n",
        "### Given Data:\n",
        "- **Sample mean (\\( \\bar{x} \\))**: $500  \n",
        "- **Sample standard deviation (\\( s \\))**: $50  \n",
        "- **Sample size (\\( n \\))**: 50  \n",
        "- **Confidence level**: 95%  \n",
        "\n",
        "---\n",
        "\n",
        "### Steps to Calculate the Confidence Interval:\n",
        "\n",
        "1. **Check Applicability of the Central Limit Theorem (CLT):**  \n",
        "   Since the sample size (\\( n = 50 \\)) is large, the CLT applies.\n",
        "\n",
        "2. **Determine the Critical Value (\\( z \\)-value):**  \n",
        "   For a 95% confidence level, the critical value is:  \n",
        "   \\[\n",
        "   z = 1.96\n",
        "   \\]\n",
        "\n",
        "3. **Calculate the Standard Error (SE):**  \n",
        "   The standard error is calculated as:  \n",
        "   \\[\n",
        "   SE = \\frac{s}{\\sqrt{n}} = \\frac{50}{\\sqrt{50}}\n",
        "   \\]\n",
        "\n",
        "4. **Calculate the Margin of Error (ME):**  \n",
        "   The margin of error is:  \n",
        "   \\[\n",
        "   ME = z \\cdot SE = 1.96 \\cdot \\frac{50}{\\sqrt{50}}\n",
        "   \\]\n",
        "\n",
        "5. **Construct the Confidence Interval:**  \n",
        "   The confidence interval is:  \n",
        "   \\[\n",
        "   [\\bar{x} - ME, \\bar{x} + ME]\n",
        "   \\]  \n",
        "   Substituting the values:  \n",
        "   \\[\n",
        "   [500 - ME, 500 + ME]\n",
        "   \\]\n",
        "\n",
        "6. **Interpret the Results:**  \n",
        "   The confidence interval provides a range within which the true population mean is likely to lie, with 95% confidence.\n"
      ],
      "metadata": {
        "id": "zg3c6kISjfg8"
      }
    },
    {
      "cell_type": "markdown",
      "source": [
        "## Q14\n",
        "\n",
        "\n",
        "###  The Test One-Tailed\n",
        "1. **Null Hypothesis (\\( H_0 \\))**: The drug decreases blood pressure by \\( \\mu = 10 \\) mmHg.  \n",
        "2. **Alternative Hypothesis (\\( H_a \\))**: The drug decreases blood pressure by \\( \\mu < 10 \\) mmHg.  \n",
        "\n",
        "Since the alternative hypothesis tests if the decrease is **less than 10 mmHg**, the test is directional, making it **one-tailed**.\n",
        "\n",
        "---\n",
        "\n",
        "### Critical Value for the Test:\n",
        "1. **Significance Level (\\( \\alpha = 0.05 \\))**: 5% of the area under the curve is in the left tail.  \n",
        "2. **Degrees of Freedom (\\( df = n - 1 = 99 \\))**: Use this to find the critical t-value.  \n",
        "3. For a **one-tailed test**, the critical value is approximately:\n",
        "   \\[\n",
        "   t = -1.66\n",
        "   \\]\n",
        "\n",
        "---\n",
        "\n",
        "### Normal Distribution Diagram:\n",
        "Below is a representation of the one-tailed test using a normal distribution curve:\n",
        "- The shaded area in the left tail represents the **rejection region** (\\( \\alpha = 0.05 \\)).\n",
        "- The critical value (\\( t = -1.66 \\)) separates the rejection region from the rest of the curve.\n",
        "- The test statistic (\\( t = -6.67 \\)) falls in the rejection region, leading to the rejection of the null hypothesis.\n",
        "\n",
        "\n",
        "\n",
        "### Conclusion:\n",
        "Since the test statistic (\\( t = -6.67 \\)) is less than the critical value (\\( t = -1.66 \\)), we reject the null hypothesis. The evidence supports that the drug significantly decreases blood pressure by **less than 10 mmHg**.\n"
      ],
      "metadata": {
        "id": "LsV_RnyKngtG"
      }
    },
    {
      "cell_type": "markdown",
      "source": [
        "## Q15\n",
        "\n",
        "## Hypothesis Testing: Testing the Mean Weight of Products\n",
        "\n",
        "### Problem Statement:\n",
        "An electronics company produces a product with:\n",
        "- **Population Mean (\\( \\mu \\))**: 5 pounds  \n",
        "- **Population Standard Deviation (\\( \\sigma \\))**: 0.5 pounds  \n",
        "- **Sample Size (\\( n \\))**: 25  \n",
        "- **Sample Mean (\\( \\bar{x} \\))**: 4.8 pounds  \n",
        "\n",
        "Test the hypothesis that the true mean weight of the products is **less than 5 pounds** with a significance level of 0.01.\n",
        "\n",
        "---\n",
        "\n",
        "### Hypotheses:\n",
        "1. **Null Hypothesis (\\( H_0 \\))**: \\( \\mu = 5 \\) (The true mean weight is 5 pounds).  \n",
        "2. **Alternative Hypothesis (\\( H_a \\))**: \\( \\mu < 5 \\) (The true mean weight is less than 5 pounds).  \n",
        "\n",
        "---\n",
        "\n",
        "### Justification for Using the Central Limit Theorem and Z-Statistic:\n",
        "1. **Sample Size (\\( n = 25 \\))**: While the sample size is less than 30, the **Central Limit Theorem (CLT)** still applies because the population is assumed to be normally distributed.  \n",
        "2. **Known Population Standard Deviation (\\( \\sigma = 0.5 \\))**: Since the population standard deviation is known, a **z-test** is appropriate.\n",
        "\n",
        "---\n",
        "\n",
        "### Test Statistic:\n",
        "The z-statistic is calculated as:\n",
        "\\[\n",
        "z = \\frac{\\bar{x} - \\mu}{\\frac{\\sigma}{\\sqrt{n}}}\n",
        "\\]\n",
        "Substituting the values:\n",
        "\\[\n",
        "z = \\frac{4.8 - 5}{\\frac{0.5}{\\sqrt{25}}} = \\frac{-0.2}{0.1} = -2.0\n",
        "\\]\n",
        "\n",
        "---\n",
        "\n",
        "### Critical Value:\n",
        "For a one-tailed test at a significance level of \\( \\alpha = 0.01 \\), the critical z-value is:\n",
        "\\[\n",
        "z_{critical} = -2.33\n",
        "\\]\n",
        "\n",
        "---\n",
        "\n",
        "### Decision Rule:\n",
        "- Reject \\( H_0 \\) if \\( z < z_{critical} \\).  \n",
        "- Here, \\( z = -2.0 \\), which is **greater than** \\( z_{critical} = -2.33 \\).  \n",
        "\n",
        "---\n",
        "\n",
        "### Conclusion:\n",
        "Since \\( z = -2.0 \\) is not less than \\( z_{critical} = -2.33 \\), the **null hypothesis is not rejected**.  \n",
        "There is insufficient evidence to conclude that the true mean weight is less than 5 pounds.\n"
      ],
      "metadata": {
        "id": "UWE29Fbsnt7t"
      }
    },
    {
      "cell_type": "markdown",
      "source": [
        "## Q16\n",
        "\n",
        "## Hypothesis Testing: Comparing Two Population Means\n",
        "\n",
        "### Problem Statement:\n",
        "Two groups of students are given different study materials to prepare for a test. The statistics are as follows:\n",
        "\n",
        "- **Group 1**:\n",
        "  - Sample size (ᵇ₁): 30\n",
        "  - Mean score (̄x₁): 80\n",
        "  - Standard deviation (ᵀ₁): 10\n",
        "\n",
        "- **Group 2**:\n",
        "  - Sample size (ᵇ₂): 40\n",
        "  - Mean score (̄x₂): 75\n",
        "  - Standard deviation (ᵀ₂): 8\n",
        "\n",
        "Test the hypothesis that the population means for the two groups are equal at a significance level of α = 0.01.\n",
        "\n",
        "---\n",
        "\n",
        "### Step 1: Define the Hypotheses\n",
        "1. **Null Hypothesis (ᵂ₀)**: The population means are equal: μ₁ = μ₂.\n",
        "2. **Alternative Hypothesis (ᵂₐ)**: The population means are not equal: μ₁ ≠ μ₂ (two-tailed test).\n",
        "\n",
        "---\n",
        "\n",
        "### Step 2: Select the Test\n",
        "Use a **two-sample t-test for independent samples**.\n",
        "- If population variances are assumed equal, calculate the pooled variance.\n",
        "- If variances are unequal, use Welch's t-test.\n",
        "\n",
        "---\n",
        "\n",
        "### Step 3: Calculate the Test Statistic\n",
        "\n",
        "#### Formula:\n",
        "The test statistic for equal variances is calculated as:\n",
        "\n",
        "\\[\n",
        "t = \\frac{\\bar{x}_1 - \\bar{x}_2}{\\sqrt{s_p^2 \\left( \\frac{1}{n_1} + \\frac{1}{n_2} \\right)}}\n",
        "\\]\n",
        "\n",
        "Where:\n",
        "\\[\n",
        "s_p^2 = \\frac{(n_1 - 1)s_1^2 + (n_2 - 1)s_2^2}{n_1 + n_2 - 2}\n",
        "\\]\n",
        "\n",
        "#### Substituting the Values:\n",
        "1. Calculate pooled variance (ᵀₚ²):\n",
        "\\[\n",
        "s_p^2 = \\frac{(30 - 1)(10^2) + (40 - 1)(8^2)}{30 + 40 - 2} = \\frac{2900 + 2496}{68} = 79.41\n",
        "\\]\n",
        "\n",
        "2. Calculate the t-statistic:\n",
        "\\[\n",
        "t = \\frac{80 - 75}{\\sqrt{79.41 \\left( \\frac{1}{30} + \\frac{1}{40} \\right)}} = \\frac{5}{\\sqrt{79.41 \\left( 0.0333 + 0.025 \\right)}} = \\frac{5}{1.822} \\approx 2.74\n",
        "\\]\n",
        "\n",
        "---\n",
        "\n",
        "### Step 4: Determine the Critical Value\n",
        "For a two-tailed test at α = 0.01 and degrees of freedom (ᵑᵅ) = 68:\n",
        "- The critical t-value is approximately ±2.66.\n",
        "\n",
        "---\n",
        "\n",
        "### Step 5: Decision Rule\n",
        "- **Reject ᵂ₀** if the calculated t-statistic is greater than the critical t-value (±tₑₜᵊ).\n",
        "- Here, \\(|t| = 2.74 > 2.66\\), so we **reject the null hypothesis**.\n",
        "\n",
        "---\n",
        "\n",
        "### Step 6: Conclusion\n",
        "There is sufficient evidence to conclude that the population means of the two groups are significantly different at the 0.01 significance level.\n"
      ],
      "metadata": {
        "id": "JjlCup_AtCpn"
      }
    },
    {
      "cell_type": "markdown",
      "source": [
        "## Q17\n",
        "\n",
        "## Estimating the Population Mean: Confidence Interval\n",
        "\n",
        "### Problem Statement:\n",
        "A marketing company wants to estimate the average number of ads watched by viewers during a TV program. They take a random sample of 50 viewers and find the following statistics:\n",
        "\n",
        "- **Sample mean (̄x)**: 4\n",
        "- **Standard deviation (s)**: 1.5\n",
        "- **Sample size (n)**: 50\n",
        "\n",
        "We aim to estimate the population mean with a **99% confidence interval**.\n",
        "\n",
        "---\n",
        "\n",
        "### Step 1: Formula for Confidence Interval\n",
        "The confidence interval for the population mean is given by:\n",
        "\n",
        "\\[\n",
        "\\mu = \\bar{x} \\pm z \\cdot \\frac{s}{\\sqrt{n}}\n",
        "\\]\n",
        "\n",
        "Where:\n",
        "- \\( \\bar{x} \\): Sample mean\n",
        "- \\( z \\): Z-value corresponding to the desired confidence level\n",
        "- \\( s \\): Standard deviation\n",
        "- \\( n \\): Sample size\n",
        "\n",
        "---\n",
        "\n",
        "### Step 2: Identify the Z-value for 99% Confidence Level\n",
        "For a **99% confidence level**, the critical z-value is:\n",
        "\n",
        "\\[\n",
        "z = 2.576\n",
        "\\]\n",
        "\n",
        "---\n",
        "\n",
        "### Step 3: Calculate the Standard Error (SE)\n",
        "The standard error is calculated as:\n",
        "\n",
        "\\[\n",
        "SE = \\frac{s}{\\sqrt{n}}\n",
        "\\]\n",
        "\n",
        "Substituting the values:\n",
        "\\[\n",
        "SE = \\frac{1.5}{\\sqrt{50}} = \\frac{1.5}{7.071} \\approx 0.212\n",
        "\\]\n",
        "\n",
        "---\n",
        "\n",
        "### Step 4: Compute the Margin of Error (ME)\n",
        "The margin of error is calculated as:\n",
        "\n",
        "\\[\n",
        "ME = z \\cdot SE\n",
        "\\]\n",
        "\n",
        "Substituting the values:\n",
        "\\[\n",
        "ME = 2.576 \\cdot 0.212 \\approx 0.546\n",
        "\\]\n",
        "\n",
        "---\n",
        "\n",
        "### Step 5: Calculate the Confidence Interval\n",
        "The confidence interval is:\n",
        "\n",
        "\\[\n",
        "\\mu = \\bar{x} \\pm ME\n",
        "\\]\n",
        "\n",
        "Substituting the values:\n",
        "\\[\n",
        "\\mu = 4 \\pm 0.546\n",
        "\\]\n",
        "\n",
        "Thus, the confidence interval is:\n",
        "\\[\n",
        "(4 - 0.546, 4 + 0.546) = (3.454, 4.546)\n",
        "\\]\n",
        "\n",
        "---\n",
        "\n",
        "### Step 6: Conclusion\n",
        "With 99% confidence, the population mean number of ads watched by viewers during a TV program lies between **3.454** and **4.546**.\n"
      ],
      "metadata": {
        "id": "kN8IuqartKQl"
      }
    }
  ]
}