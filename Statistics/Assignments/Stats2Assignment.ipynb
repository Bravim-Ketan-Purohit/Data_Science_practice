{
  "nbformat": 4,
  "nbformat_minor": 0,
  "metadata": {
    "colab": {
      "provenance": []
    },
    "kernelspec": {
      "name": "python3",
      "display_name": "Python 3"
    },
    "language_info": {
      "name": "python"
    }
  },
  "cells": [
    {
      "cell_type": "markdown",
      "source": [
        "## Q1\n",
        "\n",
        "The three measures of central tendency are\n",
        "\n",
        "\n",
        "1.   Mean\n",
        "2.   Median\n",
        "3.   Mode\n",
        "\n"
      ],
      "metadata": {
        "id": "sMN6bM6E2Hh-"
      }
    },
    {
      "cell_type": "markdown",
      "source": [
        "## Q2\n",
        "\n",
        "The **mean**, **median**, and **mode** are measures of central tendency:\n",
        "\n",
        "1. **Mean**: The average of all values. \\((\\{Sum of values} / \\{Count})\\).  \n",
        "   - **Use**: For symmetric data.  \n",
        "   - **Limitation**: Sensitive to outliers.\n",
        "\n",
        "2. **Median**: The middle value when data is ordered.  \n",
        "   - **Use**: For skewed data or outliers.  \n",
        "   - **Limitation**: Ignores exact values.\n",
        "\n",
        "3. **Mode**: The most frequent value(s).  \n",
        "   - **Use**: For categorical or repeated data.  \n",
        "   - **Limitation**: May not exist or be unique.\n"
      ],
      "metadata": {
        "id": "P1Tc8sNo2T7c"
      }
    },
    {
      "cell_type": "markdown",
      "source": [
        "## Q3"
      ],
      "metadata": {
        "id": "lFmax7JA2ykH"
      }
    },
    {
      "cell_type": "code",
      "execution_count": 2,
      "metadata": {
        "id": "mWBCHDNC2CH9"
      },
      "outputs": [],
      "source": [
        "import numpy as np\n",
        "from scipy import stats\n",
        "arr = [178,177,176,177,178.2,178,175,179,180,175,178.9,176.2,177,172.5,178,176.5]"
      ]
    },
    {
      "cell_type": "code",
      "source": [
        "median = np.median(arr)\n",
        "mean = np.mean(arr)\n",
        "mode = stats.mode(arr)"
      ],
      "metadata": {
        "id": "kbzy9DvA2x83"
      },
      "execution_count": 3,
      "outputs": []
    },
    {
      "cell_type": "code",
      "source": [
        "ans = {\n",
        "    'mean':mean,\n",
        "    'median':median,\n",
        "    'mode':mode\n",
        "}"
      ],
      "metadata": {
        "id": "uzeyhmpr3NVP"
      },
      "execution_count": 4,
      "outputs": []
    },
    {
      "cell_type": "code",
      "source": [
        "ans"
      ],
      "metadata": {
        "colab": {
          "base_uri": "https://localhost:8080/"
        },
        "id": "mfuaRBDs3Wx4",
        "outputId": "159feac5-a20d-4da6-ce08-d0ffb1dc358a"
      },
      "execution_count": 5,
      "outputs": [
        {
          "output_type": "execute_result",
          "data": {
            "text/plain": [
              "{'mean': 177.01875, 'median': 177.0, 'mode': ModeResult(mode=177.0, count=3)}"
            ]
          },
          "metadata": {},
          "execution_count": 5
        }
      ]
    },
    {
      "cell_type": "markdown",
      "source": [
        "## Q4\n",
        "\n",
        "Find the standard deviation for the given data:\n",
        "[178,177,176,177,178.2,178,175,179,180,175,178.9,176.2,177,172.5,178,176.5]"
      ],
      "metadata": {
        "id": "epbGTgnE3bzg"
      }
    },
    {
      "cell_type": "code",
      "source": [
        "arr = [178,177,176,177,178.2,178,175,179,180,175,178.9,176.2,177,172.5,178,176.5]"
      ],
      "metadata": {
        "id": "xhZ1P4HQ3XQq"
      },
      "execution_count": 6,
      "outputs": []
    },
    {
      "cell_type": "code",
      "source": [
        "np.std(arr)"
      ],
      "metadata": {
        "colab": {
          "base_uri": "https://localhost:8080/"
        },
        "id": "19-ACOo43iHC",
        "outputId": "995010e5-612e-4c5a-b13e-fc25616452b6"
      },
      "execution_count": 7,
      "outputs": [
        {
          "output_type": "execute_result",
          "data": {
            "text/plain": [
              "1.7885814036548633"
            ]
          },
          "metadata": {},
          "execution_count": 7
        }
      ]
    },
    {
      "cell_type": "markdown",
      "source": [
        "## Q5\n",
        "\n",
        "Measures of dispersion such as **range**, **variance**, and **standard deviation** describe how spread out the data values are around the central tendency. Here's how each works:\n",
        "\n",
        "\n",
        "\n",
        "### **1. Range**\n",
        "- **Definition**: The difference between the maximum and minimum values in the dataset.\n",
        "  \\[\n",
        "  \\text{Range} = \\text{Max} - \\text{Min}\n",
        "  \\]\n",
        "- **Usage**: Measures the total spread of the data but ignores intermediate values and is sensitive to outliers.\n",
        "- **Example**:\n",
        "  - Dataset: \\( \\{2, 4, 6, 8, 100\\} \\)\n",
        "  - Range: \\( 100 - 2 = 98 \\)\n",
        "\n",
        "\n",
        "\n",
        "### **2. Variance**\n",
        "- **Definition**: The average of the squared differences between each data point and the mean. It quantifies how much the data varies.\n",
        "  \\[\n",
        "  \\text{Variance} = \\frac{\\sum (x_i - \\text{mean})^2}{n}\n",
        "  \\]\n",
        "  (For a population; divide by \\( n-1 \\) for a sample.)\n",
        "- **Usage**: Provides a measure of spread but in squared units.\n",
        "- **Example**:\n",
        "  - Dataset: \\( \\{2, 4, 6\\} \\)\n",
        "  - Mean: \\( 4 \\)\n",
        "  - Variance: \\( \\frac{(2-4)^2 + (4-4)^2 + (6-4)^2}{3} = \\frac{4}{3} \\approx 1.33 \\)\n",
        "\n",
        "\n",
        "\n",
        "### **3. Standard Deviation (SD)**\n",
        "- **Definition**: The square root of variance, representing the spread in the same units as the data.\n",
        "  \\[\n",
        "  \\text{SD} = \\sqrt{\\text{Variance}}\n",
        "  \\]\n",
        "- **Usage**: Indicates how much data points deviate from the mean on average.\n",
        "- **Example**:\n",
        "  - Variance: \\( 1.33 \\)\n",
        "  - Standard Deviation: \\( \\sqrt{1.33} \\approx 1.15 \\)\n",
        "\n",
        "\n",
        "\n",
        "### **Comparison and Applications**\n",
        "| Measure           | Pros                                      | Cons                                      | Best Used For                       |\n",
        "|--------------------|-------------------------------------------|-------------------------------------------|-------------------------------------|\n",
        "| **Range**         | Simple and quick                         | Ignores intermediate data; affected by outliers | General spread estimation          |\n",
        "| **Variance**      | Considers all data points                | Hard to interpret due to squared units    | Detailed spread analysis            |\n",
        "| **Standard Deviation** | Same units as data; widely used        | Sensitive to outliers                     | General measure of average deviation |\n",
        "\n",
        "\n"
      ],
      "metadata": {
        "id": "foifg5XZ3sr6"
      }
    },
    {
      "cell_type": "markdown",
      "source": [
        "## Q6\n",
        "\n",
        "A Venn diagram is a visual representation of relationships between different sets. It uses overlapping circles to show commonalities (intersection) and differences (non-overlapping areas) among sets.\n",
        "\n"
      ],
      "metadata": {
        "id": "zva294RO4P9m"
      }
    },
    {
      "cell_type": "markdown",
      "source": [
        "## Q7\n",
        "\n",
        "1.  {2,6}\n",
        "2.  {0,2,3,4,5,6,7,8,10}"
      ],
      "metadata": {
        "id": "OzWZGhiy4SzG"
      }
    },
    {
      "cell_type": "markdown",
      "source": [
        "## Q8\n",
        "\n",
        "**Skewness** in data refers to the asymmetry of a dataset's distribution:\n",
        "\n",
        "1. **Symmetric**: Skewness = 0. The data is evenly distributed around the mean (e.g., normal distribution).  \n",
        "2. **Positive Skew (Right Skew)**: Tail extends to the right. Mean > Median.  \n",
        "3. **Negative Skew (Left Skew)**: Tail extends to the left. Mean < Median.  \n"
      ],
      "metadata": {
        "id": "824PgmwZ4ky5"
      }
    },
    {
      "cell_type": "markdown",
      "source": [
        "## Q9\n",
        "\n",
        "If a dataset is right-skewed (positively skewed):\n",
        "\n",
        "The mean will be greater than the median."
      ],
      "metadata": {
        "id": "xnlXTzeq4vl4"
      }
    },
    {
      "cell_type": "markdown",
      "source": [
        "## Q10\n",
        "\n",
        "**Covariance** and **correlation** are both measures of the relationship between two variables, but they differ in scale and interpretation:\n",
        "\n",
        "---\n",
        "\n",
        "### **1. Covariance**\n",
        "- **Definition**: Measures the direction of the linear relationship between two variables.  \n",
        "  \\[\n",
        "  \\text{Covariance} = \\frac{\\sum (x_i - \\bar{x})(y_i - \\bar{y})}{n}\n",
        "  \\]\n",
        "- **Range**: Can take any value (positive, negative, or zero).  \n",
        "- **Interpretation**:\n",
        "  - Positive covariance: Variables move in the same direction.  \n",
        "  - Negative covariance: Variables move in opposite directions.  \n",
        "  - Zero covariance: No linear relationship.  \n",
        "- **Limitation**: Magnitude depends on the scale of variables, making comparison difficult.\n",
        "\n",
        "---\n",
        "\n",
        "### **2. Correlation**\n",
        "- **Definition**: Standardized measure of the strength and direction of the linear relationship between two variables.  \n",
        "  \\[\n",
        "  \\text{Correlation} (r) = \\frac{\\text{Covariance}(x, y)}{\\sigma_x \\sigma_y}\n",
        "  \\]\n",
        "  (\\( \\sigma_x, \\sigma_y \\) are the standard deviations of \\( x \\) and \\( y \\)).  \n",
        "- **Range**: Always between -1 and 1.\n",
        "  - \\( r = 1 \\): Perfect positive correlation.\n",
        "  - \\( r = -1 \\): Perfect negative correlation.\n",
        "  - \\( r = 0 \\): No linear relationship.  \n",
        "- **Interpretation**:\n",
        "  - Indicates both strength and direction, irrespective of scale.  \n",
        "- **Advantage**: Easier to interpret and compare.\n",
        "\n",
        "---\n",
        "\n",
        "### **Usage in Statistical Analysis**:\n",
        "- **Covariance**: Helps identify the direction of relationships. Often a precursor to correlation.  \n",
        "- **Correlation**: Quantifies relationships for better comparison and is widely used in fields like finance, machine learning, and research.\n",
        "\n",
        "**Example**:\n",
        "- Two variables: Study hours and exam scores.  \n",
        "  - Covariance: \\( 20 \\) (positive, units depend on the variables).  \n",
        "  - Correlation: \\( 0.8 \\) (strong positive relationship)."
      ],
      "metadata": {
        "id": "ldNIiCS64-2C"
      }
    },
    {
      "cell_type": "markdown",
      "source": [
        "## Q11\n",
        "\n",
        "### **Formula for Sample Mean**:\n",
        "The sample mean (\\( \\bar{x} \\)) is calculated as:  \n",
        "\\[\n",
        "\\bar{x} = \\frac{\\sum x_i}{n}\n",
        "\\]\n",
        "Where:  \n",
        "- \\( x_i \\): Each data point in the sample  \n",
        "- \\( n \\): Total number of data points in the sample  \n",
        "\n",
        "---\n",
        "\n",
        "### **Example Calculation**:\n",
        "#### Dataset: \\( \\{5, 10, 15, 20, 25\\} \\)\n",
        "\n",
        "1. **Step 1**: Calculate the sum of all data points:  \n",
        "   \\[\n",
        "   \\sum x_i = 5 + 10 + 15 + 20 + 25 = 75\n",
        "   \\]\n",
        "\n",
        "2. **Step 2**: Count the number of data points:  \n",
        "   \\[\n",
        "   n = 5\n",
        "   \\]\n",
        "\n",
        "3. **Step 3**: Divide the sum by the number of data points:  \n",
        "   \\[\n",
        "   \\bar{x} = \\frac{\\sum x_i}{n} = \\frac{75}{5} = 15\n",
        "   \\]\n",
        "\n",
        "---\n",
        "\n",
        "### **Result**: The sample mean is \\( \\bar{x} = 15 \\)."
      ],
      "metadata": {
        "id": "kko9jXW25Cue"
      }
    },
    {
      "cell_type": "markdown",
      "source": [
        "## Q12\n",
        "\n",
        "---\n",
        "\n",
        "### **1. Perfectly Normal Distribution**\n",
        "- **Relationship**: Mean = Median = Mode.  \n",
        "- In a perfectly normal distribution, the data is symmetric around the central peak, and all three measures of central tendency coincide.\n",
        "\n",
        "### **2. Right-Skewed Distribution (Positive Skew)**\n",
        "- **Relationship**: Mode < Median < Mean.  \n",
        "- The long tail on the right pulls the mean higher than the median, while the mode remains the smallest.\n",
        "\n",
        "\n",
        "### **3. Left-Skewed Distribution (Negative Skew)**\n",
        "- **Relationship**: Mode > Median > Mean.  \n",
        "- The long tail on the left pulls the mean lower than the median, while the mode remains the largest.\n",
        "\n"
      ],
      "metadata": {
        "id": "i_KXXneZ5O8Q"
      }
    },
    {
      "cell_type": "markdown",
      "source": [
        "## Q13\n",
        "- **Covariance**: Indicates the **direction** of the linear relationship between two variables (positive, negative, or no relationship). However, it does not quantify the strength of the relationship and is influenced by the scale of the variables.  \n",
        "\n",
        "- **Correlation**: Measures both the **direction** and the **strength** of the linear relationship between two variables. It is scale-independent and ranges between -1 and 1, making it easier to interpret and compare across datasets.  \n",
        "\n",
        "### **In short**:  \n",
        "\"Covariance indicates the direction of the linear relationship between two random variables, while correlation provides both the direction and the strength of the relationship.\""
      ],
      "metadata": {
        "id": "hcZMbRqQ5xoQ"
      }
    },
    {
      "cell_type": "markdown",
      "source": [
        "## Q14\n",
        "\n",
        "Outliers are data points that significantly differ from the rest of the dataset. They can affect both **measures of central tendency** (mean, median, mode) and **measures of dispersion** (range, variance, standard deviation).\n",
        "\n",
        "### **Impact on Measures of Central Tendency**:\n",
        "1. **Mean**:  \n",
        "   - **Effect**: Outliers can **skew the mean** significantly because the mean is sensitive to extreme values. A single large or small outlier can pull the mean toward it, making it unrepresentative of the dataset.\n",
        "   - **Example**:  \n",
        "     - Dataset: \\( \\{2, 4, 6, 8, 100\\} \\)  \n",
        "     - Mean: \\( \\frac{2 + 4 + 6 + 8 + 100}{5} = 24 \\)  \n",
        "     - The outlier 100 increases the mean, making it much higher than the center of most values.\n",
        "\n",
        "2. **Median**:  \n",
        "   - **Effect**: The median is **less affected by outliers** because it depends on the middle value, not the specific data points.\n",
        "   - **Example**:  \n",
        "     - Dataset: \\( \\{2, 4, 6, 8, 100\\} \\)  \n",
        "     - Median: \\( 6 \\) (middle value)  \n",
        "     - The outlier 100 does not change the median.\n",
        "\n",
        "3. **Mode**:  \n",
        "   - **Effect**: The mode is usually **unaffected by outliers**, unless the outlier is a frequent value, in which case it may become the new mode.\n",
        "   - **Example**:  \n",
        "     - Dataset: \\( \\{2, 4, 6, 8, 100\\} \\)  \n",
        "     - Mode: No mode (no repetition)  \n",
        "     - The outlier 100 does not change the mode.\n",
        "\n",
        "---\n",
        "\n",
        "### **Impact on Measures of Dispersion**:\n",
        "1. **Range**:  \n",
        "   - **Effect**: The range is highly sensitive to outliers because it depends on the **maximum** and **minimum** values in the dataset. Outliers increase the range, making it appear more spread out.\n",
        "   - **Example**:  \n",
        "     - Dataset: \\( \\{2, 4, 6, 8, 100\\} \\)  \n",
        "     - Range: \\( 100 - 2 = 98 \\)  \n",
        "     - The outlier 100 increases the range drastically.\n",
        "\n",
        "2. **Variance and Standard Deviation**:  \n",
        "   - **Effect**: Both variance and standard deviation are **sensitive to outliers** because they are based on squared differences from the mean. Outliers increase the squared deviations, leading to higher variance and standard deviation.\n",
        "   - **Example**:  \n",
        "     - Dataset: \\( \\{2, 4, 6, 8, 100\\} \\)  \n",
        "     - Mean: \\( 24 \\)  \n",
        "     - Variance and Standard Deviation will be larger due to the large deviation of 100 from the mean.\n",
        "\n",
        "\n",
        "### **Summary**:\n",
        "- **Mean** and **range/variance/standard deviation** are highly **sensitive** to outliers.\n",
        "- **Median** and **mode** are **less affected** by outliers, making them more robust for datasets with extreme values."
      ],
      "metadata": {
        "id": "fEnXXCWB6XAJ"
      }
    }
  ]
}