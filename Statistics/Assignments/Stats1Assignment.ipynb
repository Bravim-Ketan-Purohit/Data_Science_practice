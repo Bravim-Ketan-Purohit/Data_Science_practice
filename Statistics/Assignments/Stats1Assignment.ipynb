{
  "nbformat": 4,
  "nbformat_minor": 0,
  "metadata": {
    "colab": {
      "provenance": []
    },
    "kernelspec": {
      "name": "python3",
      "display_name": "Python 3"
    },
    "language_info": {
      "name": "python"
    }
  },
  "cells": [
    {
      "cell_type": "markdown",
      "source": [
        "## Q1\n",
        "\n",
        "Statistics is a science where we collect, explore and model the data according to our needs and derive conclusions out of it fot betterment of many fields like business intellegence, healthcare, Finance and many more."
      ],
      "metadata": {
        "id": "bZUQDU6Zcywv"
      }
    },
    {
      "cell_type": "markdown",
      "source": [
        "## Q2\n",
        "\n",
        "---\n",
        "\n",
        "## Types of Statistics\n",
        "\n",
        "Statistics can be broadly categorized into two types:\n",
        "\n",
        "### 1. Descriptive Statistics  \n",
        "Descriptive statistics are used for:  \n",
        "- Organizing and summarizing data.  \n",
        "- Examples:  \n",
        "  - Measuring the central tendency of data, such as calculating the average height of students.  \n",
        "\n",
        "### 2. Inferential Statistics  \n",
        "Inferential statistics involve:  \n",
        "- Analyzing data and deriving conclusions, whether predictive, analytical, categorical, or of other types.  \n",
        "- Examples:  \n",
        "  - Performing hypothesis testing on a machine learning model.  \n",
        "\n",
        "---"
      ],
      "metadata": {
        "id": "nu70wkREdJlJ"
      }
    },
    {
      "cell_type": "markdown",
      "source": [
        "## Q3\n",
        "\n",
        "---\n",
        "\n",
        "## Types of Data\n",
        "\n",
        "Data can be broadly categorized into **Qualitative** and **Quantitative** types, each with its own subtypes:\n",
        "\n",
        "### 1. **Qualitative Data**  \n",
        "Qualitative data represents non-numerical information and is descriptive in nature. It can be further divided into:  \n",
        "- **Nominal Data**:  \n",
        "  - Represents categories with no inherent order.  \n",
        "  - Example: Types of fruits (apple, banana, cherry).  \n",
        "- **Ordinal Data**:  \n",
        "  - Represents categories with a meaningful order, but the differences between categories are not measured.  \n",
        "  - Example: Customer satisfaction ratings (satisfied, neutral, dissatisfied).\n",
        "\n",
        "---\n",
        "\n",
        "### 2. **Quantitative Data**  \n",
        "Quantitative data represents numerical information and is used for mathematical computations. It can be further divided into:  \n",
        "- **Discrete Data**:  \n",
        "  - Represents countable values with distinct intervals.  \n",
        "  - Example: Number of students in a classroom.  \n",
        "- **Continuous Data**:  \n",
        "  - Represents measurable values that can take any value within a range.  \n",
        "  - Example: Height of individuals (e.g., 5.6 feet, 6.2 feet).\n",
        "\n",
        "---\n",
        "\n",
        "### Key Differences  \n",
        "| **Aspect**           | **Qualitative Data**         | **Quantitative Data**       |  \n",
        "|-----------------------|------------------------------|------------------------------|  \n",
        "| Nature               | Non-numerical               | Numerical                   |  \n",
        "| Subtypes             | Nominal, Ordinal            | Discrete, Continuous        |  \n",
        "| Example              | Types of colors (red, blue) | Weight of objects (2.5 kg)  |  \n",
        "\n",
        "---"
      ],
      "metadata": {
        "id": "5i16Ojq3fh0R"
      }
    },
    {
      "cell_type": "markdown",
      "source": [
        "## Q4\n",
        "\n",
        "\n",
        "\n",
        "| **Dataset**                         | **Type**        | **Subtype**       |  \n",
        "|-------------------------------------|-----------------|-------------------|  \n",
        "| Grading in exam                     | Qualitative     | Ordinal           |  \n",
        "| Colour of mangoes                   | Qualitative     | Nominal           |  \n",
        "| Height data of a class              | Quantitative    | Continuous        |  \n",
        "| Number of mangoes exported          | Quantitative    | Discrete          |  \n"
      ],
      "metadata": {
        "id": "NEdZdO7VgA5h"
      }
    },
    {
      "cell_type": "markdown",
      "source": [
        "## Q5\n",
        "\n",
        "### Levels of Measurement\n",
        "\n",
        "The **levels of measurement** describe the types of information that variables can convey and the mathematical operations that can be applied to them. There are four levels: **Nominal, Ordinal, Interval, and Ratio.**\n",
        "\n",
        "---\n",
        "\n",
        "### 1. **Nominal Level**\n",
        "- **Description**: Represents categories or labels with no intrinsic order or ranking.\n",
        "- **Characteristics**:  \n",
        "  - Only classification is possible.\n",
        "  - Cannot perform mathematical operations.\n",
        "- **Example**:  \n",
        "  - **Variable**: Eye color (blue, green, brown).  \n",
        "\n",
        "---\n",
        "\n",
        "### 2. **Ordinal Level**\n",
        "- **Description**: Represents categories with a meaningful order or rank but without equal intervals between them.\n",
        "- **Characteristics**:  \n",
        "  - Can rank data but cannot measure differences.  \n",
        "- **Example**:  \n",
        "  - **Variable**: Customer satisfaction levels (very satisfied, satisfied, neutral, dissatisfied).  \n",
        "\n",
        "---\n",
        "\n",
        "### 3. **Interval Level**\n",
        "- **Description**: Represents numerical data with equal intervals between values, but no true zero point.  \n",
        "- **Characteristics**:  \n",
        "  - Allows addition and subtraction but not multiplication or division.  \n",
        "- **Example**:  \n",
        "  - **Variable**: Temperature in Celsius (e.g., 20°C, 30°C, 40°C).  \n",
        "\n",
        "---\n",
        "\n",
        "### 4. **Ratio Level**\n",
        "- **Description**: Represents numerical data with equal intervals and a true zero point, allowing for meaningful ratios.  \n",
        "- **Characteristics**:  \n",
        "  - Supports all mathematical operations (addition, subtraction, multiplication, and division).  \n",
        "- **Example**:  \n",
        "  - **Variable**: Weight of objects (e.g., 50 kg, 100 kg, 150 kg).  \n",
        "\n",
        "---\n",
        "\n"
      ],
      "metadata": {
        "id": "G5b8Eb4Xg-gw"
      }
    },
    {
      "cell_type": "markdown",
      "source": [
        "## Q6\n",
        "\n",
        "### Importance of Understanding Levels of Measurement in Data Analysis\n",
        "\n",
        "Understanding the **level of measurement** of data is crucial because it determines:  \n",
        "1. **Appropriate Statistical Techniques**:  \n",
        "   - The level of measurement dictates the type of statistical analysis you can perform.  \n",
        "   - For example, calculating a mean makes sense for interval or ratio data but not for nominal or ordinal data.  \n",
        "\n",
        "2. **Interpretation of Results**:  \n",
        "   - Misinterpreting the level can lead to incorrect conclusions.  \n",
        "   - For instance, treating ordinal data as interval data assumes equal spacing between ranks, which might not be true.\n",
        "\n",
        "3. **Data Representation**:  \n",
        "   - The level of measurement affects how the data can be visualized.  \n",
        "   - For example, pie charts are suitable for nominal data, while scatter plots are more appropriate for ratio data.\n",
        "\n",
        "---\n",
        "\n",
        "### Example\n",
        "\n",
        "Imagine a researcher analyzing a dataset of students’ exam grades:  \n",
        "- **Grade Levels**: A, B, C, D, F (ordinal data)  \n",
        "- **Exam Scores**: 90, 85, 75, 65, 50 (ratio data)  \n",
        "\n",
        "- If the researcher incorrectly treats grades as ratio data and calculates an \"average grade\" by assigning numerical values (e.g., A = 1, B = 2), the result would be misleading because ordinal data only reflects order, not equal intervals.  \n",
        "- However, using exam scores as ratio data allows valid operations like computing the mean or standard deviation to summarize performance.\n",
        "\n",
        "---"
      ],
      "metadata": {
        "id": "4_n-ywXwhoQF"
      }
    },
    {
      "cell_type": "markdown",
      "source": [
        "## Q7\n",
        "\n",
        "Nominal data represents categories without order (e.g., eye color), while ordinal data represents categories with a meaningful order but unequal intervals (e.g., satisfaction levels)."
      ],
      "metadata": {
        "id": "aYcUfJxaiE6c"
      }
    },
    {
      "cell_type": "markdown",
      "source": [
        "## Q8\n",
        "\n",
        "Boxplot"
      ],
      "metadata": {
        "id": "Y8nLh9fRiIEC"
      }
    },
    {
      "cell_type": "markdown",
      "source": [
        "## Q9\n",
        "\n",
        "Descriptive statistics describe what is in the data, while inferential statistics predict what could be about the population."
      ],
      "metadata": {
        "id": "d6-6o3sGiXqe"
      }
    },
    {
      "cell_type": "markdown",
      "source": [
        "## Q10\n",
        "\n",
        "### Common Measures of Central Tendency and Variability in Statistics\n",
        "\n",
        "In statistics, measures of central tendency and variability are essential tools for summarizing and understanding data.\n",
        "\n",
        "\n",
        "\n",
        "### **Measures of Central Tendency**  \n",
        "These measures indicate the central or typical value in a dataset:  \n",
        "\n",
        "1. **Mean (Average)**:  \n",
        "   - **Definition**: The sum of all data values divided by the number of values.  \n",
        "   - **Usage**: Provides a quick summary of the dataset but is sensitive to outliers.  \n",
        "   - **Example**: The average score of students in a class.  \n",
        "\n",
        "2. **Median**:  \n",
        "   - **Definition**: The exact middle value when the data is arranged in ascending order.  \n",
        "   - **Usage**: Useful for skewed datasets as it is not affected by outliers.  \n",
        "   - **Example**: The median income of households in a region.  \n",
        "\n",
        "3. **Mode**:  \n",
        "   - **Definition**: The most frequently occurring value in the dataset.  \n",
        "   - **Usage**: Helps identify the most common category or value in the data.  \n",
        "   - **Example**: The most popular shoe size sold in a store.  \n",
        "\n",
        "---\n",
        "\n",
        "### **Measures of Variability**  \n",
        "These measures indicate how spread out the data values are:  \n",
        "\n",
        "1. **Standard Deviation**:  \n",
        "   - **Definition**: A measure of how much the values in a dataset deviate from the mean.  \n",
        "   - **Usage**: Indicates the consistency or variability in the data. Smaller standard deviations mean less variability.  \n",
        "   - **Example**: Assessing the consistency of test scores in a classroom.  \n",
        "\n",
        "2. **Variance**:  \n",
        "   - **Definition**: The average of the squared deviations from the mean. It is the square of the standard deviation.  \n",
        "   - **Usage**: Provides a mathematical measure of variability; used in inferential statistics.  \n",
        "   - **Example**: Analyzing the variance in stock prices over time to understand risk.  \n",
        "\n",
        "---"
      ],
      "metadata": {
        "id": "LdDU7pW9ipxC"
      }
    },
    {
      "cell_type": "code",
      "source": [],
      "metadata": {
        "id": "UnT7d-Cqe8Ic"
      },
      "execution_count": null,
      "outputs": []
    }
  ]
}