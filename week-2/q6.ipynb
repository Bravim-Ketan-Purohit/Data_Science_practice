{
 "cells": [
  {
   "cell_type": "markdown",
   "id": "d46769a8-7b11-4b97-a316-b47c5988779d",
   "metadata": {},
   "source": [
    "Q6. What is a complex number in mathematics, and how is it represented in Python?"
   ]
  },
  {
   "cell_type": "markdown",
   "id": "0714be1d-8a1d-4b41-acd8-c09b9f782d16",
   "metadata": {},
   "source": [
    "Answer :\n",
    "\n",
    "Complex Numbers in Maths. Complex numbers are the numbers that are expressed in the form of a+ib where, a,b are real numbers and 'i' is an imaginary number called “iota”. The value of i = (√-1). For example, 2+3i is a complex number, where 2 is a real number (Re) and 3i is an imaginary number (Im)."
   ]
  },
  {
   "cell_type": "code",
   "execution_count": 1,
   "id": "eaf6597a-37b6-446c-b0f7-c1d10b5bb67c",
   "metadata": {},
   "outputs": [],
   "source": [
    "# in python it is represented like this -->\n",
    "a=3+4j"
   ]
  },
  {
   "cell_type": "code",
   "execution_count": 3,
   "id": "87d4b1cf-74b6-438c-bdc9-c89edb2d8f72",
   "metadata": {},
   "outputs": [
    {
     "data": {
      "text/plain": [
       "3.0"
      ]
     },
     "execution_count": 3,
     "metadata": {},
     "output_type": "execute_result"
    }
   ],
   "source": [
    "a.real"
   ]
  },
  {
   "cell_type": "code",
   "execution_count": 4,
   "id": "94f5ba93-e484-4c7a-a225-8acc88d42ff1",
   "metadata": {},
   "outputs": [
    {
     "data": {
      "text/plain": [
       "4.0"
      ]
     },
     "execution_count": 4,
     "metadata": {},
     "output_type": "execute_result"
    }
   ],
   "source": [
    "a.imag"
   ]
  },
  {
   "cell_type": "code",
   "execution_count": 5,
   "id": "3f40e8fd-1494-4e4f-8c95-ef6e0b2044e4",
   "metadata": {},
   "outputs": [
    {
     "name": "stdout",
     "output_type": "stream",
     "text": [
      "<class 'complex'>\n"
     ]
    }
   ],
   "source": [
    "print(type(a))"
   ]
  },
  {
   "cell_type": "code",
   "execution_count": null,
   "id": "30b1531d-2887-42bb-a2ec-a597cc1fdc65",
   "metadata": {},
   "outputs": [],
   "source": []
  }
 ],
 "metadata": {
  "kernelspec": {
   "display_name": "Python 3 (ipykernel)",
   "language": "python",
   "name": "python3"
  },
  "language_info": {
   "codemirror_mode": {
    "name": "ipython",
    "version": 3
   },
   "file_extension": ".py",
   "mimetype": "text/x-python",
   "name": "python",
   "nbconvert_exporter": "python",
   "pygments_lexer": "ipython3",
   "version": "3.10.8"
  }
 },
 "nbformat": 4,
 "nbformat_minor": 5
}
