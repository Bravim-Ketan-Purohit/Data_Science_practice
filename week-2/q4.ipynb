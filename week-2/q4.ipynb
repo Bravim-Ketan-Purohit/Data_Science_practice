{
 "cells": [
  {
   "cell_type": "markdown",
   "id": "03d7467c-defd-4cf6-baf3-526265a6e9ac",
   "metadata": {},
   "source": [
    "Q4. How do you write and execute a Python script from the command line?"
   ]
  },
  {
   "cell_type": "markdown",
   "id": "7de1036c-79cb-4aea-957c-627214ef291a",
   "metadata": {},
   "source": [
    "<!-- I have implemented this in my command prompt -->\n",
    "\n",
    "\n",
    "C:\\Users\\Bravim Purohit>python\n",
    "Python 3.8.5 (tags/v3.8.5:580fbb0, Jul 20 2020, 15:43:08) [MSC v.1926 32 bit (Intel)] on win32\n",
    "Type \"help\", \"copyright\", \"credits\" or \"license\" for more information.\n",
    ">>> a=10\n",
    ">>> b=20\n",
    ">>> c=a+b\n",
    ">>> c\n",
    "30\n",
    ">>> d=str(c)\n",
    ">>> d\n",
    "'30'\n",
    ">>>"
   ]
  }
 ],
 "metadata": {
  "kernelspec": {
   "display_name": "Python 3 (ipykernel)",
   "language": "python",
   "name": "python3"
  },
  "language_info": {
   "codemirror_mode": {
    "name": "ipython",
    "version": 3
   },
   "file_extension": ".py",
   "mimetype": "text/x-python",
   "name": "python",
   "nbconvert_exporter": "python",
   "pygments_lexer": "ipython3",
   "version": "3.10.8"
  }
 },
 "nbformat": 4,
 "nbformat_minor": 5
}
