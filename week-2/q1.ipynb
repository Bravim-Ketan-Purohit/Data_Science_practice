{
 "cells": [
  {
   "cell_type": "markdown",
   "id": "d53a92c8-5043-4243-a9d4-5436cbfb22f1",
   "metadata": {},
   "source": [
    "Q1. How do you comment code in Python? What are the different types of comments?"
   ]
  },
  {
   "cell_type": "markdown",
   "id": "9aca2716-a6b9-467e-b64d-0186ba8522a0",
   "metadata": {},
   "source": [
    "Answer :\n",
    "\n",
    "there are 2 kinds of comments in python"
   ]
  },
  {
   "cell_type": "markdown",
   "id": "bd6bf38d-9a44-4737-9d0a-d321e66cf442",
   "metadata": {},
   "source": [
    "1. single line comment"
   ]
  },
  {
   "cell_type": "code",
   "execution_count": 1,
   "id": "c4152dcc-e023-4083-ae12-3eb2edeb69ab",
   "metadata": {},
   "outputs": [],
   "source": [
    "# this is single line comment"
   ]
  },
  {
   "cell_type": "markdown",
   "id": "68aca02a-96bb-431d-9a7b-6b196e6344e7",
   "metadata": {},
   "source": [
    "2. multi line comment"
   ]
  },
  {
   "cell_type": "code",
   "execution_count": 3,
   "id": "619ee2ec-1144-4251-87a4-8f5609f19cd6",
   "metadata": {},
   "outputs": [
    {
     "data": {
      "text/plain": [
       "'\\nthis is \\nmultiline \\ncomment\\n'"
      ]
     },
     "execution_count": 3,
     "metadata": {},
     "output_type": "execute_result"
    }
   ],
   "source": [
    "\"\"\"\n",
    "this is \n",
    "multiline \n",
    "comment\n",
    "\"\"\""
   ]
  },
  {
   "cell_type": "code",
   "execution_count": null,
   "id": "e40deb4a-c266-40d4-8dad-cf017574de05",
   "metadata": {},
   "outputs": [],
   "source": []
  }
 ],
 "metadata": {
  "kernelspec": {
   "display_name": "Python 3 (ipykernel)",
   "language": "python",
   "name": "python3"
  },
  "language_info": {
   "codemirror_mode": {
    "name": "ipython",
    "version": 3
   },
   "file_extension": ".py",
   "mimetype": "text/x-python",
   "name": "python",
   "nbconvert_exporter": "python",
   "pygments_lexer": "ipython3",
   "version": "3.10.8"
  }
 },
 "nbformat": 4,
 "nbformat_minor": 5
}
