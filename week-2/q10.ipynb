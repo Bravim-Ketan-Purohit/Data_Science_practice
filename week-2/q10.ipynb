{
 "cells": [
  {
   "cell_type": "markdown",
   "id": "5dacbc09-8b7c-44ea-abb7-764d3b857c4b",
   "metadata": {},
   "source": [
    "Q10. Given the string \"Hello, World!\", extract the substring \"World\"."
   ]
  },
  {
   "cell_type": "code",
   "execution_count": 1,
   "id": "a9bbe4eb-fabd-4c1f-8104-b701b54484a3",
   "metadata": {},
   "outputs": [],
   "source": [
    "str = 'Hello, world!'"
   ]
  },
  {
   "cell_type": "code",
   "execution_count": 9,
   "id": "768da2a0-4a0f-4534-bb77-4cd74c2c2dcd",
   "metadata": {},
   "outputs": [
    {
     "name": "stdout",
     "output_type": "stream",
     "text": [
      "world\n"
     ]
    }
   ],
   "source": [
    "print(str[7:12])"
   ]
  },
  {
   "cell_type": "code",
   "execution_count": null,
   "id": "56968e9b-59e7-4102-ab59-70c3dd7c9371",
   "metadata": {},
   "outputs": [],
   "source": []
  }
 ],
 "metadata": {
  "kernelspec": {
   "display_name": "Python 3 (ipykernel)",
   "language": "python",
   "name": "python3"
  },
  "language_info": {
   "codemirror_mode": {
    "name": "ipython",
    "version": 3
   },
   "file_extension": ".py",
   "mimetype": "text/x-python",
   "name": "python",
   "nbconvert_exporter": "python",
   "pygments_lexer": "ipython3",
   "version": "3.10.8"
  }
 },
 "nbformat": 4,
 "nbformat_minor": 5
}
