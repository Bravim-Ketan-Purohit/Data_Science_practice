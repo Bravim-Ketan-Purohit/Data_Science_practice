{
 "cells": [
  {
   "cell_type": "markdown",
   "id": "5dec4e2c-a36b-4dc6-8f7e-92bb1f467046",
   "metadata": {},
   "source": [
    "Q3. How do you convert one data type to another in Python?"
   ]
  },
  {
   "cell_type": "code",
   "execution_count": 2,
   "id": "b35264cd-dfc9-497d-a860-e0819cee4012",
   "metadata": {},
   "outputs": [],
   "source": [
    "# the conversion of one dataType to another is known as type conversion and it can be done as follows\n",
    "a=10.72"
   ]
  },
  {
   "cell_type": "code",
   "execution_count": 3,
   "id": "f79611a6-e413-4465-8a06-2ec0877ea390",
   "metadata": {},
   "outputs": [],
   "source": [
    "b=int(a)"
   ]
  },
  {
   "cell_type": "code",
   "execution_count": 4,
   "id": "850743f2-da70-4ff7-8fe7-18a42957d8ae",
   "metadata": {},
   "outputs": [
    {
     "data": {
      "text/plain": [
       "10.72"
      ]
     },
     "execution_count": 4,
     "metadata": {},
     "output_type": "execute_result"
    }
   ],
   "source": [
    "a"
   ]
  },
  {
   "cell_type": "code",
   "execution_count": 5,
   "id": "8bbc3de8-9213-4d91-bc12-8cc6cdb8b322",
   "metadata": {},
   "outputs": [
    {
     "data": {
      "text/plain": [
       "10"
      ]
     },
     "execution_count": 5,
     "metadata": {},
     "output_type": "execute_result"
    }
   ],
   "source": [
    "b \n",
    "# integer of a"
   ]
  },
  {
   "cell_type": "code",
   "execution_count": 6,
   "id": "7c0b6b78-4a80-439f-a1f0-25ecadcd42ef",
   "metadata": {},
   "outputs": [],
   "source": [
    "c=str(a)"
   ]
  },
  {
   "cell_type": "code",
   "execution_count": 7,
   "id": "b369f5de-ab12-4f71-bf86-39ae4ed20ca9",
   "metadata": {},
   "outputs": [
    {
     "data": {
      "text/plain": [
       "'10.72'"
      ]
     },
     "execution_count": 7,
     "metadata": {},
     "output_type": "execute_result"
    }
   ],
   "source": [
    "c"
   ]
  },
  {
   "cell_type": "code",
   "execution_count": null,
   "id": "33b6aec3-0936-4888-81a5-4706df976fa8",
   "metadata": {},
   "outputs": [],
   "source": []
  }
 ],
 "metadata": {
  "kernelspec": {
   "display_name": "Python 3 (ipykernel)",
   "language": "python",
   "name": "python3"
  },
  "language_info": {
   "codemirror_mode": {
    "name": "ipython",
    "version": 3
   },
   "file_extension": ".py",
   "mimetype": "text/x-python",
   "name": "python",
   "nbconvert_exporter": "python",
   "pygments_lexer": "ipython3",
   "version": "3.10.8"
  }
 },
 "nbformat": 4,
 "nbformat_minor": 5
}
