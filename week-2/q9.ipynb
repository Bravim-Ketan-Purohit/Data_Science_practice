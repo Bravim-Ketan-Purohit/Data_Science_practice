{
 "cells": [
  {
   "cell_type": "markdown",
   "id": "6644aa00-7688-4706-8c1e-1f577c24acc0",
   "metadata": {},
   "source": [
    "Q9. Create a variable named name and assign your full name to it as a string. How would you print the\n",
    "value of this variable?"
   ]
  },
  {
   "cell_type": "code",
   "execution_count": 1,
   "id": "51882979-9cb9-4332-9106-59299a9e4fac",
   "metadata": {},
   "outputs": [],
   "source": [
    "name = 'Bravim K. Purohit'"
   ]
  },
  {
   "cell_type": "code",
   "execution_count": 2,
   "id": "29db421d-d2ee-47cb-a3f9-39759bf980ec",
   "metadata": {},
   "outputs": [
    {
     "data": {
      "text/plain": [
       "'Bravim K. Purohit'"
      ]
     },
     "execution_count": 2,
     "metadata": {},
     "output_type": "execute_result"
    }
   ],
   "source": [
    "name"
   ]
  },
  {
   "cell_type": "code",
   "execution_count": null,
   "id": "6e512ef8-4e9c-40f0-87b0-0b60c6336bca",
   "metadata": {},
   "outputs": [],
   "source": []
  }
 ],
 "metadata": {
  "kernelspec": {
   "display_name": "Python 3 (ipykernel)",
   "language": "python",
   "name": "python3"
  },
  "language_info": {
   "codemirror_mode": {
    "name": "ipython",
    "version": 3
   },
   "file_extension": ".py",
   "mimetype": "text/x-python",
   "name": "python",
   "nbconvert_exporter": "python",
   "pygments_lexer": "ipython3",
   "version": "3.10.8"
  }
 },
 "nbformat": 4,
 "nbformat_minor": 5
}
