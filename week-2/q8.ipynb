{
 "cells": [
  {
   "cell_type": "markdown",
   "id": "91746749-0278-43c5-9201-2c4d0bfcced4",
   "metadata": {},
   "source": [
    "Q8. Declare a variable named price and assign the value 9.99 to it. What data type does this variable\n",
    "belong to?"
   ]
  },
  {
   "cell_type": "code",
   "execution_count": 1,
   "id": "9a56cede-9116-49dc-abec-c23e6f2358cd",
   "metadata": {},
   "outputs": [],
   "source": [
    "price=9.99"
   ]
  },
  {
   "cell_type": "code",
   "execution_count": 2,
   "id": "b942d3ac-d6bf-448b-a93e-a313549ab0fb",
   "metadata": {},
   "outputs": [
    {
     "name": "stdout",
     "output_type": "stream",
     "text": [
      "<class 'float'>\n"
     ]
    }
   ],
   "source": [
    "print(type(price))"
   ]
  },
  {
   "cell_type": "markdown",
   "id": "6b695f22-0cd2-4ccd-a97d-cdceaca6dde8",
   "metadata": {},
   "source": [
    "hence the variable price is float data type"
   ]
  },
  {
   "cell_type": "code",
   "execution_count": null,
   "id": "f74d7b40-22c5-4354-8392-9b1b5bdc54ae",
   "metadata": {},
   "outputs": [],
   "source": []
  }
 ],
 "metadata": {
  "kernelspec": {
   "display_name": "Python 3 (ipykernel)",
   "language": "python",
   "name": "python3"
  },
  "language_info": {
   "codemirror_mode": {
    "name": "ipython",
    "version": 3
   },
   "file_extension": ".py",
   "mimetype": "text/x-python",
   "name": "python",
   "nbconvert_exporter": "python",
   "pygments_lexer": "ipython3",
   "version": "3.10.8"
  }
 },
 "nbformat": 4,
 "nbformat_minor": 5
}
