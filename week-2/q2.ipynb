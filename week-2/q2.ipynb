{
 "cells": [
  {
   "cell_type": "markdown",
   "id": "992e698c-3a0b-46bf-9171-230cb012ac37",
   "metadata": {},
   "source": [
    "Q2 .What are variables in Python? How do you declare and assign values to variables?"
   ]
  },
  {
   "cell_type": "markdown",
   "id": "dd8c5376-9b48-41ec-8474-1c1082a0ad09",
   "metadata": {},
   "source": [
    "A variable is a string of characters and numbers associated with a piece of information. The assignment operator, denoted by the “=” symbol, is the operator that is used to assign values to variables in Python. The line x=1 takes the known value, 1, and assigns that value to the variable with name “x”."
   ]
  },
  {
   "cell_type": "code",
   "execution_count": 1,
   "id": "8bc03331-ea1f-4079-bdc1-970119a60d38",
   "metadata": {},
   "outputs": [],
   "source": [
    "a=10\n",
    "b=\"hello, world!\"\n",
    "# by this way we can assign values to variables\n",
    "# python is intellegent enough to identify any kind of datatype on its own"
   ]
  },
  {
   "cell_type": "code",
   "execution_count": 2,
   "id": "fe07ea14-aa90-40cc-a534-51fc00441085",
   "metadata": {},
   "outputs": [
    {
     "data": {
      "text/plain": [
       "10"
      ]
     },
     "execution_count": 2,
     "metadata": {},
     "output_type": "execute_result"
    }
   ],
   "source": [
    "a"
   ]
  },
  {
   "cell_type": "code",
   "execution_count": 3,
   "id": "01215d6c-177d-4421-ba9a-4a761e308ff1",
   "metadata": {},
   "outputs": [
    {
     "data": {
      "text/plain": [
       "'hello, world!'"
      ]
     },
     "execution_count": 3,
     "metadata": {},
     "output_type": "execute_result"
    }
   ],
   "source": [
    "b"
   ]
  },
  {
   "cell_type": "code",
   "execution_count": null,
   "id": "1ff952c9-54ba-4ca0-b255-3aabd53bee8d",
   "metadata": {},
   "outputs": [],
   "source": []
  }
 ],
 "metadata": {
  "kernelspec": {
   "display_name": "Python 3 (ipykernel)",
   "language": "python",
   "name": "python3"
  },
  "language_info": {
   "codemirror_mode": {
    "name": "ipython",
    "version": 3
   },
   "file_extension": ".py",
   "mimetype": "text/x-python",
   "name": "python",
   "nbconvert_exporter": "python",
   "pygments_lexer": "ipython3",
   "version": "3.10.8"
  }
 },
 "nbformat": 4,
 "nbformat_minor": 5
}
