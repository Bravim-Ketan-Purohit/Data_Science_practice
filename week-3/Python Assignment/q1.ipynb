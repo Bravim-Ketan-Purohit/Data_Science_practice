{
 "cells": [
  {
   "cell_type": "markdown",
   "id": "b530d667-6610-4a03-a791-b1d8c5543c25",
   "metadata": {},
   "source": [
    "Q1. Create a python program to sort the given list of tuples based on integer value using a\n",
    "lambda function.\n",
    "[('Sachin Tendulkar', 34357), ('Ricky Ponting', 27483), ('Jack Kallis', 25534), ('Virat Kohli', 24936)]\n"
   ]
  },
  {
   "cell_type": "code",
   "execution_count": 2,
   "id": "02362330-4c93-477b-b242-c4dd4d048a2e",
   "metadata": {},
   "outputs": [
    {
     "name": "stdout",
     "output_type": "stream",
     "text": [
      "('Virat Kohli', 24936)\n",
      "('Jack Kallis', 25534)\n",
      "('Ricky Ponting', 27483)\n",
      "('Sachin Tendulkar', 34357)\n"
     ]
    }
   ],
   "source": [
    "data = [('Sachin Tendulkar', 34357), ('Ricky Ponting', 27483), ('Jack Kallis', 25534), ('Virat Kohli', 24936)]\n",
    "\n",
    "sorted_data = sorted(data, key=lambda x: x[1])\n",
    "\n",
    "for item in sorted_data:\n",
    "    print(item)"
   ]
  },
  {
   "cell_type": "code",
   "execution_count": null,
   "id": "6be2b882-2687-4d6c-ac2d-77e8c135fdcf",
   "metadata": {},
   "outputs": [],
   "source": []
  }
 ],
 "metadata": {
  "kernelspec": {
   "display_name": "Python 3 (ipykernel)",
   "language": "python",
   "name": "python3"
  },
  "language_info": {
   "codemirror_mode": {
    "name": "ipython",
    "version": 3
   },
   "file_extension": ".py",
   "mimetype": "text/x-python",
   "name": "python",
   "nbconvert_exporter": "python",
   "pygments_lexer": "ipython3",
   "version": "3.10.8"
  }
 },
 "nbformat": 4,
 "nbformat_minor": 5
}
