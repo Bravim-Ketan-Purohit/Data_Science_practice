{
 "cells": [
  {
   "cell_type": "markdown",
   "id": "099c0a7c-ae86-4492-b2d6-fa6d678b46c5",
   "metadata": {},
   "source": [
    "Q5. Write a python program to filter the numbers in a given list that are divisible by 2 and 3 using the\n",
    "filter function.\n",
    "[2, 3, 6, 9, 27, 60, 90, 120, 55, 46]"
   ]
  },
  {
   "cell_type": "code",
   "execution_count": 1,
   "id": "37a6e4dd-f9a0-482c-b0b3-844cfd3b5679",
   "metadata": {},
   "outputs": [],
   "source": [
    "l = [2, 3, 6, 9, 27, 60, 90, 120, 55, 46]\n",
    "div = list(filter(lambda x: x%2 ==0 and x%3 == 0,l))"
   ]
  },
  {
   "cell_type": "code",
   "execution_count": 2,
   "id": "fb2e4186-6cdb-4ac8-87ae-eeeae39e951b",
   "metadata": {},
   "outputs": [
    {
     "data": {
      "text/plain": [
       "[6, 60, 90, 120]"
      ]
     },
     "execution_count": 2,
     "metadata": {},
     "output_type": "execute_result"
    }
   ],
   "source": [
    "div"
   ]
  },
  {
   "cell_type": "code",
   "execution_count": null,
   "id": "c572eae8-9f08-4ed0-9a41-4baa81fb0003",
   "metadata": {},
   "outputs": [],
   "source": []
  }
 ],
 "metadata": {
  "kernelspec": {
   "display_name": "Python 3 (ipykernel)",
   "language": "python",
   "name": "python3"
  },
  "language_info": {
   "codemirror_mode": {
    "name": "ipython",
    "version": 3
   },
   "file_extension": ".py",
   "mimetype": "text/x-python",
   "name": "python",
   "nbconvert_exporter": "python",
   "pygments_lexer": "ipython3",
   "version": "3.10.8"
  }
 },
 "nbformat": 4,
 "nbformat_minor": 5
}
