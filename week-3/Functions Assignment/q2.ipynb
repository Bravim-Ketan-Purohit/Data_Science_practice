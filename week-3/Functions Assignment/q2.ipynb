{
 "cells": [
  {
   "cell_type": "markdown",
   "id": "bb0143c0-ca8a-4106-9272-9171d78fe47c",
   "metadata": {},
   "source": [
    "Q2. Why *args and **kwargs is used in some functions? Create a function each for *args and **kwargs to\n",
    "demonstrate their use.\n",
    "\n",
    "\n",
    "Ans : sometimes we do not know the number of arguments to be passed so for that we use *args in a function while on the other hand **kwargs are used for key value pair datatype to be passed as a parameter in a function"
   ]
  },
  {
   "cell_type": "code",
   "execution_count": 1,
   "id": "971f2f7c-c934-48ff-b47a-adcb58aae642",
   "metadata": {},
   "outputs": [],
   "source": [
    "def test(*args,**kwargs):\n",
    "    return args,kwargs"
   ]
  },
  {
   "cell_type": "code",
   "execution_count": 2,
   "id": "3a1df052-e0e2-49a6-8cef-26251582ecda",
   "metadata": {},
   "outputs": [
    {
     "data": {
      "text/plain": [
       "(([1, 2, 3], 'bravim'),\n",
       " {'a': 90, 'b': 98, 'c': [10, 11, 12], 'd': 'data science'})"
      ]
     },
     "execution_count": 2,
     "metadata": {},
     "output_type": "execute_result"
    }
   ],
   "source": [
    "test([1,2,3],\"bravim\",a=90,b=98,c=[10,11,12],d=\"data science\")"
   ]
  },
  {
   "cell_type": "code",
   "execution_count": null,
   "id": "469fcf7d-bf30-41d8-908d-fe2db31ec641",
   "metadata": {},
   "outputs": [],
   "source": []
  }
 ],
 "metadata": {
  "kernelspec": {
   "display_name": "Python 3 (ipykernel)",
   "language": "python",
   "name": "python3"
  },
  "language_info": {
   "codemirror_mode": {
    "name": "ipython",
    "version": 3
   },
   "file_extension": ".py",
   "mimetype": "text/x-python",
   "name": "python",
   "nbconvert_exporter": "python",
   "pygments_lexer": "ipython3",
   "version": "3.10.8"
  }
 },
 "nbformat": 4,
 "nbformat_minor": 5
}
