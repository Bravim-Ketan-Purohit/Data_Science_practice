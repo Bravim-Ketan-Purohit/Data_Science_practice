{
 "cells": [
  {
   "cell_type": "markdown",
   "id": "18b9545b-d3d1-4958-b108-2806925dccd8",
   "metadata": {},
   "source": [
    "Q1. Which keyword is used to create a function? Create a function to return a list of odd numbers in the\n",
    "range of 1 to 25.\n",
    "\n",
    "Ans : def keyword is used to declare a function"
   ]
  },
  {
   "cell_type": "code",
   "execution_count": 5,
   "id": "1f9763c8-b56b-4db3-a180-86d648066454",
   "metadata": {},
   "outputs": [],
   "source": [
    "a = list(range(1,26))"
   ]
  },
  {
   "cell_type": "code",
   "execution_count": 6,
   "id": "d540d61f-19a0-40ac-b71c-805fc6864f1a",
   "metadata": {},
   "outputs": [
    {
     "data": {
      "text/plain": [
       "[1,\n",
       " 2,\n",
       " 3,\n",
       " 4,\n",
       " 5,\n",
       " 6,\n",
       " 7,\n",
       " 8,\n",
       " 9,\n",
       " 10,\n",
       " 11,\n",
       " 12,\n",
       " 13,\n",
       " 14,\n",
       " 15,\n",
       " 16,\n",
       " 17,\n",
       " 18,\n",
       " 19,\n",
       " 20,\n",
       " 21,\n",
       " 22,\n",
       " 23,\n",
       " 24,\n",
       " 25]"
      ]
     },
     "execution_count": 6,
     "metadata": {},
     "output_type": "execute_result"
    }
   ],
   "source": [
    "a"
   ]
  },
  {
   "cell_type": "code",
   "execution_count": 7,
   "id": "70479dd8-f81d-4eb8-9bc5-6b12278f5a43",
   "metadata": {},
   "outputs": [],
   "source": [
    "def odd_nos(a):\n",
    "    l = []\n",
    "    for i in a:\n",
    "        if i%2!=0:\n",
    "            l.append(i)\n",
    "    return l"
   ]
  },
  {
   "cell_type": "code",
   "execution_count": 8,
   "id": "c06b7973-7fe6-4270-bed3-7f09e0d71dc2",
   "metadata": {},
   "outputs": [
    {
     "data": {
      "text/plain": [
       "[1, 3, 5, 7, 9, 11, 13, 15, 17, 19, 21, 23, 25]"
      ]
     },
     "execution_count": 8,
     "metadata": {},
     "output_type": "execute_result"
    }
   ],
   "source": [
    "odd_nos(a)"
   ]
  },
  {
   "cell_type": "code",
   "execution_count": null,
   "id": "3eb33d60-90e7-4127-9b5d-fbbf125b5cc6",
   "metadata": {},
   "outputs": [],
   "source": []
  }
 ],
 "metadata": {
  "kernelspec": {
   "display_name": "Python 3 (ipykernel)",
   "language": "python",
   "name": "python3"
  },
  "language_info": {
   "codemirror_mode": {
    "name": "ipython",
    "version": 3
   },
   "file_extension": ".py",
   "mimetype": "text/x-python",
   "name": "python",
   "nbconvert_exporter": "python",
   "pygments_lexer": "ipython3",
   "version": "3.10.8"
  }
 },
 "nbformat": 4,
 "nbformat_minor": 5
}
