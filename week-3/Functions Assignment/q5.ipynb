{
  "nbformat": 4,
  "nbformat_minor": 0,
  "metadata": {
    "colab": {
      "provenance": []
    },
    "kernelspec": {
      "name": "python3",
      "display_name": "Python 3"
    },
    "language_info": {
      "name": "python"
    }
  },
  "cells": [
    {
      "cell_type": "code",
      "execution_count": 2,
      "metadata": {
        "id": "nEevby6rghw7"
      },
      "outputs": [],
      "source": [
        "def generate_primes():\n",
        "    yield 2\n",
        "    primes = [2]\n",
        "    num = 3\n",
        "    while num < 1000:\n",
        "        is_prime = True\n",
        "        for prime in primes:\n",
        "            if prime * prime > num:\n",
        "                break\n",
        "            if num % prime == 0:\n",
        "                is_prime = False\n",
        "                break\n",
        "        if is_prime:\n",
        "            primes.append(num)\n",
        "            yield num\n",
        "        num += 2\n",
        "\n"
      ]
    },
    {
      "cell_type": "code",
      "source": [
        "prime_generator = generate_primes()\n",
        "for _ in range(20):\n",
        "    prime = next(prime_generator)\n",
        "    print(prime)\n"
      ],
      "metadata": {
        "colab": {
          "base_uri": "https://localhost:8080/"
        },
        "id": "TSpGv7QTg7kr",
        "outputId": "b43724c3-9719-4695-dd0f-3de1988b34ad"
      },
      "execution_count": 3,
      "outputs": [
        {
          "output_type": "stream",
          "name": "stdout",
          "text": [
            "2\n",
            "3\n",
            "5\n",
            "7\n",
            "11\n",
            "13\n",
            "17\n",
            "19\n",
            "23\n",
            "29\n",
            "31\n",
            "37\n",
            "41\n",
            "43\n",
            "47\n",
            "53\n",
            "59\n",
            "61\n",
            "67\n",
            "71\n"
          ]
        }
      ]
    },
    {
      "cell_type": "code",
      "source": [],
      "metadata": {
        "id": "XheWBj22iLrR"
      },
      "execution_count": null,
      "outputs": []
    }
  ]
}