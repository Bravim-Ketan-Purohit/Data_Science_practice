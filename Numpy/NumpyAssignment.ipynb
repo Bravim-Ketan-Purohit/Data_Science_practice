{
  "nbformat": 4,
  "nbformat_minor": 0,
  "metadata": {
    "colab": {
      "provenance": []
    },
    "kernelspec": {
      "name": "python3",
      "display_name": "Python 3"
    },
    "language_info": {
      "name": "python"
    }
  },
  "cells": [
    {
      "cell_type": "code",
      "execution_count": 2,
      "metadata": {
        "id": "D_q5T6iJbDWH"
      },
      "outputs": [],
      "source": [
        "import numpy as np\n",
        "list_ = [ '1','2','3','4','5']\n",
        "array_list = np.array(object = list_)"
      ]
    },
    {
      "cell_type": "markdown",
      "source": [
        "## Q1\n",
        "\n",
        "Yes, there is a difference in the data types of list_ and array_list.\n",
        "\n",
        "\n",
        "list_ is a Python list.\n",
        "array_list is a NumPy array created using the np.array function, which converts the elements of the Python list to a NumPy array."
      ],
      "metadata": {
        "id": "YSp_KDY8btef"
      }
    },
    {
      "cell_type": "code",
      "source": [
        "print(\"Data type of list_: \", type(list_))\n",
        "print(\"Data type of array_list: \", type(array_list))"
      ],
      "metadata": {
        "colab": {
          "base_uri": "https://localhost:8080/"
        },
        "id": "mfZPIAl2bNI2",
        "outputId": "c5ddb203-5f8f-4e50-c6b2-f6c3a6119cc9"
      },
      "execution_count": 3,
      "outputs": [
        {
          "output_type": "stream",
          "name": "stdout",
          "text": [
            "Data type of list_:  <class 'list'>\n",
            "Data type of array_list:  <class 'numpy.ndarray'>\n"
          ]
        }
      ]
    },
    {
      "cell_type": "markdown",
      "source": [
        "## Q2"
      ],
      "metadata": {
        "id": "UD4h-ypecEBx"
      }
    },
    {
      "cell_type": "code",
      "source": [
        "print(\"Data types of elements in list_:\")\n",
        "for element in list_:\n",
        "    print(f\"{element}: {type(element)}\")"
      ],
      "metadata": {
        "colab": {
          "base_uri": "https://localhost:8080/"
        },
        "id": "-2Hbttd_b4Uy",
        "outputId": "f3e7217e-fc8c-4036-fe00-3298e3a06049"
      },
      "execution_count": 4,
      "outputs": [
        {
          "output_type": "stream",
          "name": "stdout",
          "text": [
            "Data types of elements in list_:\n",
            "1: <class 'str'>\n",
            "2: <class 'str'>\n",
            "3: <class 'str'>\n",
            "4: <class 'str'>\n",
            "5: <class 'str'>\n"
          ]
        }
      ]
    },
    {
      "cell_type": "code",
      "source": [
        "print(\"\\nData types of elements in array_list:\")\n",
        "for element in array_list:\n",
        "    print(f\"{element}: {type(element)}\")"
      ],
      "metadata": {
        "colab": {
          "base_uri": "https://localhost:8080/"
        },
        "id": "uncqzmKPcHL-",
        "outputId": "d5fb0dc8-a888-4d31-c0f2-02b9320998ea"
      },
      "execution_count": 5,
      "outputs": [
        {
          "output_type": "stream",
          "name": "stdout",
          "text": [
            "\n",
            "Data types of elements in array_list:\n",
            "1: <class 'numpy.str_'>\n",
            "2: <class 'numpy.str_'>\n",
            "3: <class 'numpy.str_'>\n",
            "4: <class 'numpy.str_'>\n",
            "5: <class 'numpy.str_'>\n"
          ]
        }
      ]
    },
    {
      "cell_type": "markdown",
      "source": [
        "## Q3"
      ],
      "metadata": {
        "id": "twz-Gxbkcl2_"
      }
    },
    {
      "cell_type": "code",
      "source": [
        "list_ = ['1', '2', '3', '4', '5']\n",
        "array_list = np.array(object=list_, dtype=int)\n",
        "\n",
        "print(\"\\nData types of elements in array_list:\")\n",
        "for element in array_list:\n",
        "    print(f\"{element}: {type(element)}\")"
      ],
      "metadata": {
        "colab": {
          "base_uri": "https://localhost:8080/"
        },
        "id": "6fmSZujPcKXx",
        "outputId": "d377ab22-a877-4bc9-8949-d97add9e092f"
      },
      "execution_count": 7,
      "outputs": [
        {
          "output_type": "stream",
          "name": "stdout",
          "text": [
            "\n",
            "Data types of elements in array_list:\n",
            "1: <class 'numpy.int64'>\n",
            "2: <class 'numpy.int64'>\n",
            "3: <class 'numpy.int64'>\n",
            "4: <class 'numpy.int64'>\n",
            "5: <class 'numpy.int64'>\n"
          ]
        }
      ]
    },
    {
      "cell_type": "markdown",
      "source": [
        "## Q4"
      ],
      "metadata": {
        "id": "9IPcmpVjcxn3"
      }
    },
    {
      "cell_type": "code",
      "source": [
        "num_list = [[1, 2, 3], [4, 5, 6]]\n",
        "num_array = np.array(object=num_list)\n",
        "print(\"Shape of num_array:\", num_array.shape)\n",
        "print(\"Size of num_array:\", num_array.size)\n"
      ],
      "metadata": {
        "colab": {
          "base_uri": "https://localhost:8080/"
        },
        "id": "Uc1vYT7VcnDa",
        "outputId": "18f9103c-5958-4359-fd80-184aa2890124"
      },
      "execution_count": 8,
      "outputs": [
        {
          "output_type": "stream",
          "name": "stdout",
          "text": [
            "Shape of num_array: (2, 3)\n",
            "Size of num_array: 6\n"
          ]
        }
      ]
    },
    {
      "cell_type": "markdown",
      "source": [
        "## Q5"
      ],
      "metadata": {
        "id": "4T-7kiQuc2AV"
      }
    },
    {
      "cell_type": "code",
      "source": [
        "zero_matrix = np.zeros((3, 3))\n",
        "print(\"3x3 Matrix of Zeros:\")\n",
        "print(zero_matrix)"
      ],
      "metadata": {
        "colab": {
          "base_uri": "https://localhost:8080/"
        },
        "id": "0MI_aufcc00J",
        "outputId": "0ba82540-f911-47d7-b43c-3387330832a6"
      },
      "execution_count": 9,
      "outputs": [
        {
          "output_type": "stream",
          "name": "stdout",
          "text": [
            "3x3 Matrix of Zeros:\n",
            "[[0. 0. 0.]\n",
            " [0. 0. 0.]\n",
            " [0. 0. 0.]]\n"
          ]
        }
      ]
    },
    {
      "cell_type": "markdown",
      "source": [
        "## Q6"
      ],
      "metadata": {
        "id": "B7buvGyqdTG0"
      }
    },
    {
      "cell_type": "code",
      "source": [
        "identity_matrix = np.eye(5)\n",
        "print(\"5x5 Identity Matrix:\")\n",
        "print(identity_matrix)"
      ],
      "metadata": {
        "colab": {
          "base_uri": "https://localhost:8080/"
        },
        "id": "kEdEZ566dMxz",
        "outputId": "e4aa51b4-d18e-4c21-ccaa-bbfab7eb3771"
      },
      "execution_count": 10,
      "outputs": [
        {
          "output_type": "stream",
          "name": "stdout",
          "text": [
            "5x5 Identity Matrix:\n",
            "[[1. 0. 0. 0. 0.]\n",
            " [0. 1. 0. 0. 0.]\n",
            " [0. 0. 1. 0. 0.]\n",
            " [0. 0. 0. 1. 0.]\n",
            " [0. 0. 0. 0. 1.]]\n"
          ]
        }
      ]
    },
    {
      "cell_type": "code",
      "source": [],
      "metadata": {
        "id": "XuxX6uASdR4m"
      },
      "execution_count": null,
      "outputs": []
    }
  ]
}