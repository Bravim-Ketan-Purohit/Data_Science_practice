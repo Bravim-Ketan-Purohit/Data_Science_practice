{
 "cells": [
  {
   "cell_type": "markdown",
   "id": "53239938-ad60-42fd-a06f-4f7259db246f",
   "metadata": {
    "tags": []
   },
   "source": [
    "# create one variable of the given datatypes"
   ]
  },
  {
   "cell_type": "markdown",
   "id": "4d669940-3f55-402b-940e-19b56219cea2",
   "metadata": {},
   "source": [
    "string"
   ]
  },
  {
   "cell_type": "code",
   "execution_count": 1,
   "id": "798164cb-259a-4ce3-aa4b-cf9eb4af1bf1",
   "metadata": {},
   "outputs": [],
   "source": [
    "a = \"bravim\" "
   ]
  },
  {
   "cell_type": "code",
   "execution_count": 2,
   "id": "fb5f6fc6-f5ba-4929-8f98-7f909a0be4f0",
   "metadata": {},
   "outputs": [
    {
     "data": {
      "text/plain": [
       "'bravim'"
      ]
     },
     "execution_count": 2,
     "metadata": {},
     "output_type": "execute_result"
    }
   ],
   "source": [
    "a"
   ]
  },
  {
   "cell_type": "markdown",
   "id": "43d7009d-a19e-4fc3-9019-1520caab1846",
   "metadata": {},
   "source": [
    "list"
   ]
  },
  {
   "cell_type": "code",
   "execution_count": 3,
   "id": "edabb71b-9b4c-4390-9ca1-699d86aeb1aa",
   "metadata": {},
   "outputs": [],
   "source": [
    "list = [1,5,2+3j,\"b\"]"
   ]
  },
  {
   "cell_type": "code",
   "execution_count": 4,
   "id": "891f8bc6-b7af-40c7-bf01-98b55ab553e2",
   "metadata": {},
   "outputs": [
    {
     "data": {
      "text/plain": [
       "[1, 5, (2+3j), 'b']"
      ]
     },
     "execution_count": 4,
     "metadata": {},
     "output_type": "execute_result"
    }
   ],
   "source": [
    "list"
   ]
  },
  {
   "cell_type": "markdown",
   "id": "890d90c0-8b62-4473-833b-4bf905bb7b61",
   "metadata": {},
   "source": [
    "float"
   ]
  },
  {
   "cell_type": "code",
   "execution_count": 5,
   "id": "5d235102-4161-4c27-a04f-caf47e79b102",
   "metadata": {},
   "outputs": [],
   "source": [
    "y = 3.14"
   ]
  },
  {
   "cell_type": "code",
   "execution_count": 6,
   "id": "c49a9e66-92ce-4666-9a0c-fc480048605b",
   "metadata": {},
   "outputs": [
    {
     "data": {
      "text/plain": [
       "3.14"
      ]
     },
     "execution_count": 6,
     "metadata": {},
     "output_type": "execute_result"
    }
   ],
   "source": [
    "y"
   ]
  },
  {
   "cell_type": "markdown",
   "id": "e313e519-543a-4a9f-94b4-97e0b2fbd386",
   "metadata": {},
   "source": [
    "tuple"
   ]
  },
  {
   "cell_type": "code",
   "execution_count": null,
   "id": "3466ed43-81ff-439d-a13b-95b001d68b28",
   "metadata": {},
   "outputs": [],
   "source": []
  }
 ],
 "metadata": {
  "kernelspec": {
   "display_name": "Python 3 (ipykernel)",
   "language": "python",
   "name": "python3"
  },
  "language_info": {
   "codemirror_mode": {
    "name": "ipython",
    "version": 3
   },
   "file_extension": ".py",
   "mimetype": "text/x-python",
   "name": "python",
   "nbconvert_exporter": "python",
   "pygments_lexer": "ipython3",
   "version": "3.10.8"
  }
 },
 "nbformat": 4,
 "nbformat_minor": 5
}
