{
 "cells": [
  {
   "cell_type": "markdown",
   "id": "b86ee701-58b0-4566-b059-95ec1f5e16e5",
   "metadata": {},
   "source": [
    "Create a list of length 10 of your choice containing multiple types of data. Using for loop print the\n",
    "element and its data type."
   ]
  },
  {
   "cell_type": "code",
   "execution_count": 4,
   "id": "59417267-dd4f-4bbc-9372-5743d9c5964c",
   "metadata": {},
   "outputs": [],
   "source": [
    "L = [\"bravim\" , 13 , 5 + 2j , 9.77 , \"data science\",2,33.08,9+8j]"
   ]
  },
  {
   "cell_type": "code",
   "execution_count": 5,
   "id": "fae13f9f-0b95-4f3c-9b97-edd8eb87114f",
   "metadata": {},
   "outputs": [
    {
     "name": "stdout",
     "output_type": "stream",
     "text": [
      "bravim\n",
      "13\n",
      "(5+2j)\n",
      "9.77\n",
      "data science\n",
      "2\n",
      "33.08\n",
      "(9+8j)\n"
     ]
    }
   ],
   "source": [
    "for i in L :\n",
    "    print(i)"
   ]
  },
  {
   "cell_type": "code",
   "execution_count": null,
   "id": "fd6ebe49-5c1f-4bcf-90c1-9d9ecb2ca718",
   "metadata": {},
   "outputs": [],
   "source": []
  }
 ],
 "metadata": {
  "kernelspec": {
   "display_name": "Python 3 (ipykernel)",
   "language": "python",
   "name": "python3"
  },
  "language_info": {
   "codemirror_mode": {
    "name": "ipython",
    "version": 3
   },
   "file_extension": ".py",
   "mimetype": "text/x-python",
   "name": "python",
   "nbconvert_exporter": "python",
   "pygments_lexer": "ipython3",
   "version": "3.10.8"
  }
 },
 "nbformat": 4,
 "nbformat_minor": 5
}
