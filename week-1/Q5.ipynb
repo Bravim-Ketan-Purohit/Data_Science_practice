{
 "cells": [
  {
   "cell_type": "markdown",
   "id": "c616b630-65cf-466d-a9b7-b519da52b744",
   "metadata": {},
   "source": [
    "Using a while loop, verify if the number A is purely divisible by number B and if so then how many\n",
    "times it can be divisible."
   ]
  },
  {
   "cell_type": "code",
   "execution_count": 2,
   "id": "7b1e5bd1-0508-4b56-956c-915888534d32",
   "metadata": {},
   "outputs": [
    {
     "name": "stdin",
     "output_type": "stream",
     "text": [
      "enter a  24\n",
      "enter b  3\n"
     ]
    },
    {
     "name": "stdout",
     "output_type": "stream",
     "text": [
      "{b} divides {a} , {count} number of times\n"
     ]
    }
   ],
   "source": [
    "a=int(input(\"enter a \"))\n",
    "b=int(input(\"enter b \"))\n",
    "\n",
    "count = 0\n",
    "\n",
    "while a%b == 0:\n",
    "    a/=b\n",
    "    count+= 1\n",
    "print(\"f{b} divides {a} , {count} number of times\")\n",
    "\n",
    "\n",
    "\n",
    "# a = 24\n",
    "# b = 3\n",
    "# count = 0\n",
    "\n",
    "# while a % b == 0:\n",
    "#     a /= b\n",
    "#     count += 1\n",
    "\n",
    "# print(f\"{b} divides {a} {count} times\")"
   ]
  },
  {
   "cell_type": "code",
   "execution_count": null,
   "id": "27df9f4d-3973-4f18-a926-129aa37459c8",
   "metadata": {},
   "outputs": [],
   "source": []
  }
 ],
 "metadata": {
  "kernelspec": {
   "display_name": "Python 3 (ipykernel)",
   "language": "python",
   "name": "python3"
  },
  "language_info": {
   "codemirror_mode": {
    "name": "ipython",
    "version": 3
   },
   "file_extension": ".py",
   "mimetype": "text/x-python",
   "name": "python",
   "nbconvert_exporter": "python",
   "pygments_lexer": "ipython3",
   "version": "3.10.8"
  }
 },
 "nbformat": 4,
 "nbformat_minor": 5
}
