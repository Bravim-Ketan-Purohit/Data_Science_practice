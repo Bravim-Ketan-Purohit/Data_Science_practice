{
 "cells": [
  {
   "cell_type": "markdown",
   "id": "98dccd20-1d50-4001-8ad4-1147b195502a",
   "metadata": {},
   "source": [
    "What do you understand about mutable and immutable data types? Give examples for both showing\n",
    "this property."
   ]
  },
  {
   "cell_type": "code",
   "execution_count": 1,
   "id": "9bbe8205-8c07-41f3-a739-7d06caca0ad4",
   "metadata": {},
   "outputs": [],
   "source": [
    "# mutable data types are those which can be changed some of mutable data types are list etc\n",
    "# example :\n",
    "list = [1,2,3,\"b\"]"
   ]
  },
  {
   "cell_type": "code",
   "execution_count": 2,
   "id": "7653dee9-d50e-478f-9c3b-399be534545f",
   "metadata": {},
   "outputs": [],
   "source": [
    "list[0] = \"bravim\""
   ]
  },
  {
   "cell_type": "code",
   "execution_count": 3,
   "id": "1096e502-6d8d-4837-8ebf-d5348d402d0c",
   "metadata": {},
   "outputs": [
    {
     "data": {
      "text/plain": [
       "['bravim', 2, 3, 'b']"
      ]
     },
     "execution_count": 3,
     "metadata": {},
     "output_type": "execute_result"
    }
   ],
   "source": [
    "list"
   ]
  },
  {
   "cell_type": "code",
   "execution_count": null,
   "id": "1a4ab26e-7bad-46e1-b797-a6d2952789cc",
   "metadata": {},
   "outputs": [],
   "source": [
    "# non mutable are those datatypes which cannot be changed once declared\n",
    "# example\n",
    "tuple = "
   ]
  }
 ],
 "metadata": {
  "kernelspec": {
   "display_name": "Python 3 (ipykernel)",
   "language": "python",
   "name": "python3"
  },
  "language_info": {
   "codemirror_mode": {
    "name": "ipython",
    "version": 3
   },
   "file_extension": ".py",
   "mimetype": "text/x-python",
   "name": "python",
   "nbconvert_exporter": "python",
   "pygments_lexer": "ipython3",
   "version": "3.10.8"
  }
 },
 "nbformat": 4,
 "nbformat_minor": 5
}
