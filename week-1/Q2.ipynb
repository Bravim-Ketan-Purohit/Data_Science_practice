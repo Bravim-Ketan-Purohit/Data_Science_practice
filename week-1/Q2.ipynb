{
 "cells": [
  {
   "cell_type": "markdown",
   "id": "1c701cf2-9c51-4129-9a32-c07806035b25",
   "metadata": {},
   "source": [
    "Given are some following variables containing data:"
   ]
  },
  {
   "cell_type": "markdown",
   "id": "6acc4ed9-0d65-4a1d-a9fb-26ee9cfef910",
   "metadata": {},
   "source": [
    "What will be the data type of the above given variable."
   ]
  },
  {
   "cell_type": "code",
   "execution_count": 1,
   "id": "acda2119-31c3-4a2e-8f21-c0d7706872a9",
   "metadata": {},
   "outputs": [],
   "source": [
    "var1=''"
   ]
  },
  {
   "cell_type": "code",
   "execution_count": 2,
   "id": "cddeac6c-65d5-47e4-9e22-d375bfc10e9a",
   "metadata": {},
   "outputs": [
    {
     "data": {
      "text/plain": [
       "str"
      ]
     },
     "execution_count": 2,
     "metadata": {},
     "output_type": "execute_result"
    }
   ],
   "source": [
    "type(var1)"
   ]
  },
  {
   "cell_type": "code",
   "execution_count": 3,
   "id": "4f4f16f4-bc9b-4353-90cd-f2487dc3231a",
   "metadata": {},
   "outputs": [],
   "source": [
    "var2=\"[DS,ML,PYTHON]\""
   ]
  },
  {
   "cell_type": "code",
   "execution_count": 4,
   "id": "516d043b-b310-4881-83ea-b0448d1f72f6",
   "metadata": {},
   "outputs": [
    {
     "data": {
      "text/plain": [
       "str"
      ]
     },
     "execution_count": 4,
     "metadata": {},
     "output_type": "execute_result"
    }
   ],
   "source": [
    "type(var2)"
   ]
  },
  {
   "cell_type": "code",
   "execution_count": 6,
   "id": "492cf08c-5cb8-46ae-b8f6-137989cd0780",
   "metadata": {},
   "outputs": [],
   "source": [
    "var3 = [ \"DS\" , \"ML\" , \"Python\" ]"
   ]
  },
  {
   "cell_type": "code",
   "execution_count": 7,
   "id": "e88a53f4-8429-45f8-baa2-5cdca97bff20",
   "metadata": {},
   "outputs": [
    {
     "data": {
      "text/plain": [
       "list"
      ]
     },
     "execution_count": 7,
     "metadata": {},
     "output_type": "execute_result"
    }
   ],
   "source": [
    "type(var3)"
   ]
  },
  {
   "cell_type": "code",
   "execution_count": 8,
   "id": "075f9232-715b-49c7-a177-738b36c63afc",
   "metadata": {},
   "outputs": [],
   "source": [
    "var4 = 1"
   ]
  },
  {
   "cell_type": "code",
   "execution_count": 9,
   "id": "e20105f8-3382-445c-9364-86e118748019",
   "metadata": {},
   "outputs": [
    {
     "data": {
      "text/plain": [
       "int"
      ]
     },
     "execution_count": 9,
     "metadata": {},
     "output_type": "execute_result"
    }
   ],
   "source": [
    "type(var4)"
   ]
  },
  {
   "cell_type": "code",
   "execution_count": null,
   "id": "11366070-010f-4364-a89c-9dce4662a190",
   "metadata": {},
   "outputs": [],
   "source": []
  }
 ],
 "metadata": {
  "kernelspec": {
   "display_name": "Python 3 (ipykernel)",
   "language": "python",
   "name": "python3"
  },
  "language_info": {
   "codemirror_mode": {
    "name": "ipython",
    "version": 3
   },
   "file_extension": ".py",
   "mimetype": "text/x-python",
   "name": "python",
   "nbconvert_exporter": "python",
   "pygments_lexer": "ipython3",
   "version": "3.10.8"
  }
 },
 "nbformat": 4,
 "nbformat_minor": 5
}
