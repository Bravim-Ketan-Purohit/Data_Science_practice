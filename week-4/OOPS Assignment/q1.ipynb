{
 "cells": [
  {
   "cell_type": "markdown",
   "id": "597d88e6-2b2c-41aa-a767-cbd2b7066a6d",
   "metadata": {},
   "source": [
    "Q1. Explain Class and Object with respect to Object-Oriented Programming. Give a suitable example.\n",
    "\n",
    "Ans: class cam be termed as an custom data structure and object can be termed as declaration of variable of thst data type , besides it class gives us power to us decorators , and also helps us in implementing things like inherutance , polumorphism , abstraction etc.."
   ]
  },
  {
   "cell_type": "code",
   "execution_count": 6,
   "id": "90ed513a-2ebc-40df-9dce-b1f538c077b5",
   "metadata": {},
   "outputs": [],
   "source": [
    "# example\n",
    "class courses : \n",
    "    def __init__(self,c_name):\n",
    "        print(\"course name is \",c_name)"
   ]
  },
  {
   "cell_type": "code",
   "execution_count": 10,
   "id": "4113c269-edc8-4292-80c6-bcf19038bbaa",
   "metadata": {},
   "outputs": [
    {
     "name": "stdout",
     "output_type": "stream",
     "text": [
      "course name is  data science\n"
     ]
    }
   ],
   "source": [
    "c1 = courses(\"data science\")"
   ]
  },
  {
   "cell_type": "code",
   "execution_count": 12,
   "id": "c96cbc6e-a6c3-4241-8cd1-f447d0d580ec",
   "metadata": {},
   "outputs": [
    {
     "data": {
      "text/plain": [
       "<__main__.courses at 0x7fb5bc15abf0>"
      ]
     },
     "execution_count": 12,
     "metadata": {},
     "output_type": "execute_result"
    }
   ],
   "source": [
    "c1"
   ]
  },
  {
   "cell_type": "code",
   "execution_count": null,
   "id": "64360cc8-ff69-4dc0-992f-a097459f3ffd",
   "metadata": {},
   "outputs": [],
   "source": []
  }
 ],
 "metadata": {
  "kernelspec": {
   "display_name": "Python 3 (ipykernel)",
   "language": "python",
   "name": "python3"
  },
  "language_info": {
   "codemirror_mode": {
    "name": "ipython",
    "version": 3
   },
   "file_extension": ".py",
   "mimetype": "text/x-python",
   "name": "python",
   "nbconvert_exporter": "python",
   "pygments_lexer": "ipython3",
   "version": "3.10.8"
  }
 },
 "nbformat": 4,
 "nbformat_minor": 5
}
