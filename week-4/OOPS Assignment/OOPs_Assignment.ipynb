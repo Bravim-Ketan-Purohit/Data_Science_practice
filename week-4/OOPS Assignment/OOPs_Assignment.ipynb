{
  "nbformat": 4,
  "nbformat_minor": 0,
  "metadata": {
    "colab": {
      "provenance": []
    },
    "kernelspec": {
      "name": "python3",
      "display_name": "Python 3"
    },
    "language_info": {
      "name": "python"
    }
  },
  "cells": [
    {
      "cell_type": "markdown",
      "source": [
        "Q1. Explain Class and Object with respect to Object-Oriented Programming. Give a suitable example.\n",
        "\n",
        "Ans: class cam be termed as an custom data structure and object can be termed as declaration of variable of thst data type , besides it class gives us power to us decorators , and also helps us in implementing things like inherutance , polumorphism , abstraction etc.."
      ],
      "metadata": {
        "id": "3JzRussNq_NY"
      }
    },
    {
      "cell_type": "code",
      "execution_count": 1,
      "metadata": {
        "id": "eUCQg7lJqzoL"
      },
      "outputs": [],
      "source": [
        "class courses :\n",
        "    def __init__(self,c_name):\n",
        "        print(\"course name is \",c_name)"
      ]
    },
    {
      "cell_type": "code",
      "source": [
        "c1 = courses(\"data science\")"
      ],
      "metadata": {
        "colab": {
          "base_uri": "https://localhost:8080/"
        },
        "id": "h8jbJsenrCsm",
        "outputId": "fe9992f5-7c61-4ccc-ab19-303a56b35120"
      },
      "execution_count": 2,
      "outputs": [
        {
          "output_type": "stream",
          "name": "stdout",
          "text": [
            "course name is  data science\n"
          ]
        }
      ]
    },
    {
      "cell_type": "code",
      "source": [
        "c1\n"
      ],
      "metadata": {
        "colab": {
          "base_uri": "https://localhost:8080/"
        },
        "id": "WCvPbeXmrIBF",
        "outputId": "f5cc5ae0-af9c-4071-8a02-c2764356a23b"
      },
      "execution_count": 3,
      "outputs": [
        {
          "output_type": "execute_result",
          "data": {
            "text/plain": [
              "<__main__.courses at 0x7f6e87f665f0>"
            ]
          },
          "metadata": {},
          "execution_count": 3
        }
      ]
    },
    {
      "cell_type": "markdown",
      "source": [
        "Q2. Name the four pillars of OOPs.\n",
        "\n",
        "Ans: four pillars of OOPs are\n",
        "\n",
        "1. inheritance\n",
        "2. polymorphism\n",
        "3. abstraction\n",
        "4. encapsulation"
      ],
      "metadata": {
        "id": "sL4qLCt4rQzH"
      }
    },
    {
      "cell_type": "markdown",
      "source": [
        "Q3. Explain why the init() function is used. Give a suitable example.\n",
        "\n",
        "Ans : the init() method is a dundle function which is basically used for passing on values to a class."
      ],
      "metadata": {
        "id": "L8AvP0MArZCp"
      }
    },
    {
      "cell_type": "code",
      "source": [
        "class example:\n",
        "    def __init__(self,mobile):\n",
        "        print(mobile)"
      ],
      "metadata": {
        "id": "1KkMGlErrKHu"
      },
      "execution_count": 4,
      "outputs": []
    },
    {
      "cell_type": "code",
      "source": [
        "c = example(1234567890)\n",
        "# this was an example of __init__() function where we are passing a mobile number to the class"
      ],
      "metadata": {
        "colab": {
          "base_uri": "https://localhost:8080/"
        },
        "id": "dDdmEIYErcU2",
        "outputId": "abb02d05-fb61-466f-cbdf-a461cfe5d962"
      },
      "execution_count": 5,
      "outputs": [
        {
          "output_type": "stream",
          "name": "stdout",
          "text": [
            "1234567890\n"
          ]
        }
      ]
    },
    {
      "cell_type": "markdown",
      "source": [
        "Q4. Why self is used in OOPs?\n",
        "\n",
        "Ans: The self is used to represent the instance of the class. With this keyword, we can access the attributes and methods of the class in python. It binds the attributes with the given arguments"
      ],
      "metadata": {
        "id": "LO0BxcwzrlFF"
      }
    },
    {
      "cell_type": "markdown",
      "source": [
        "Q5. What is inheritance? Give an example for each type of inheritance.\n",
        "\n",
        "Ans : Inheritance is defined as the mechanism of inheriting the properties of the base class to the child class\n",
        "\n"
      ],
      "metadata": {
        "id": "kWlvEmtYrqRf"
      }
    },
    {
      "cell_type": "code",
      "source": [
        "# Single inheritance\n",
        "class parent:\n",
        "    def method1():\n",
        "        print(\"I am parent\")\n",
        "class child(parent):\n",
        "    def method2():\n",
        "        print(\"I am child\")"
      ],
      "metadata": {
        "id": "7AC0-sdsrfzf"
      },
      "execution_count": 7,
      "outputs": []
    },
    {
      "cell_type": "code",
      "source": [
        "obj = child"
      ],
      "metadata": {
        "id": "UN4Ebl5wruue"
      },
      "execution_count": 8,
      "outputs": []
    },
    {
      "cell_type": "code",
      "source": [
        "obj.method1()"
      ],
      "metadata": {
        "colab": {
          "base_uri": "https://localhost:8080/"
        },
        "id": "GmivrJLury5e",
        "outputId": "6c9d3f70-4202-444c-bac0-4b0a3bd7a3fa"
      },
      "execution_count": 9,
      "outputs": [
        {
          "output_type": "stream",
          "name": "stdout",
          "text": [
            "I am parent\n"
          ]
        }
      ]
    },
    {
      "cell_type": "code",
      "source": [
        "obj.method2()"
      ],
      "metadata": {
        "colab": {
          "base_uri": "https://localhost:8080/"
        },
        "id": "X14MTFehr0rm",
        "outputId": "8cfe2b3b-af0b-414b-d7e2-0efbfb4772c9"
      },
      "execution_count": 10,
      "outputs": [
        {
          "output_type": "stream",
          "name": "stdout",
          "text": [
            "I am child\n"
          ]
        }
      ]
    },
    {
      "cell_type": "code",
      "source": [
        "# Multiple inheritance\n",
        "class Mother:\n",
        "\tmothername = \"\"\n",
        "\tdef mother(self):\n",
        "\t\tprint(self.mothername)\n",
        "class Father:\n",
        "\tfathername = \"\"\n",
        "\tdef father(self):\n",
        "\t\tprint(self.fathername)\n",
        "class Son(Mother, Father):\n",
        "\tdef parents(self):\n",
        "\t\tprint(\"Father :\", self.fathername)\n",
        "\t\tprint(\"Mother :\", self.mothername)\n",
        "s1 = Son()\n",
        "s1.fathername = \"Ketan\"\n",
        "s1.mothername = \"Deepal\"\n",
        "s1.parents()"
      ],
      "metadata": {
        "colab": {
          "base_uri": "https://localhost:8080/"
        },
        "id": "gRFpFv_2r2bc",
        "outputId": "2ede35ed-31e7-493a-ef1e-2207fff31435"
      },
      "execution_count": 11,
      "outputs": [
        {
          "output_type": "stream",
          "name": "stdout",
          "text": [
            "Father : Ketan\n",
            "Mother : Deepal\n"
          ]
        }
      ]
    },
    {
      "cell_type": "code",
      "source": [
        "# Multilevel inheritance\n",
        "class Grandfather:\n",
        "\tdef __init__(self, grandfathername):\n",
        "\t\tself.grandfathername = grandfathername\n",
        "class Father(Grandfather):\n",
        "\tdef __init__(self, fathername, grandfathername):\n",
        "\t\tself.fathername = fathername\n",
        "\t\tGrandfather.__init__(self, grandfathername)\n",
        "class Son(Father):\n",
        "\tdef __init__(self, sonname, fathername, grandfathername):\n",
        "\t\tself.sonname = sonname\n",
        "\t\tFather.__init__(self, fathername, grandfathername)\n",
        "\tdef print_name(self):\n",
        "\t\tprint('Grandfather name :', self.grandfathername)\n",
        "\t\tprint(\"Father name :\", self.fathername)\n",
        "\t\tprint(\"Son name :\", self.sonname)\n",
        "s1 = Son('Bravim', 'Ketan', 'Pradyuman')\n",
        "print(s1.grandfathername)\n",
        "s1.print_name()"
      ],
      "metadata": {
        "colab": {
          "base_uri": "https://localhost:8080/"
        },
        "id": "C2xowcsCr6_d",
        "outputId": "28af8f56-1cc7-4c76-9e41-b667941c2bcf"
      },
      "execution_count": 12,
      "outputs": [
        {
          "output_type": "stream",
          "name": "stdout",
          "text": [
            "Pradyuman\n",
            "Grandfather name : Pradyuman\n",
            "Father name : Ketan\n",
            "Son name : Bravim\n"
          ]
        }
      ]
    },
    {
      "cell_type": "code",
      "source": [],
      "metadata": {
        "id": "9Q5A0enusAE1"
      },
      "execution_count": null,
      "outputs": []
    }
  ]
}