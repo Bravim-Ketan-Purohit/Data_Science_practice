{
 "cells": [
  {
   "cell_type": "markdown",
   "id": "a0c40f94-9033-4170-8e76-39d3f52cd3e7",
   "metadata": {},
   "source": [
    "Q3. Explain why the __init__() function is used. Give a suitable example.\n",
    "\n",
    "Ans : the __init__() method is a dundle function which is basically used for passing on values to a class."
   ]
  },
  {
   "cell_type": "code",
   "execution_count": 1,
   "id": "e2b6719a-7610-4d4e-84d8-cb8d9d945500",
   "metadata": {},
   "outputs": [],
   "source": [
    "# example\n",
    "class example:\n",
    "    def __init__(self,mobile):\n",
    "        print(mobile)"
   ]
  },
  {
   "cell_type": "code",
   "execution_count": 3,
   "id": "2531650c-9df3-46d5-93d3-cdb3f1167bab",
   "metadata": {},
   "outputs": [
    {
     "name": "stdout",
     "output_type": "stream",
     "text": [
      "1234567890\n"
     ]
    }
   ],
   "source": [
    "c = example(1234567890)"
   ]
  },
  {
   "cell_type": "code",
   "execution_count": 4,
   "id": "3111a337-ae81-4500-b3e4-878b5d0482dc",
   "metadata": {},
   "outputs": [],
   "source": [
    "# this was an example of __init__() function where we are passing a mobile number to the class"
   ]
  },
  {
   "cell_type": "code",
   "execution_count": null,
   "id": "067dad1b-a756-47ee-9389-77c427b1019e",
   "metadata": {},
   "outputs": [],
   "source": []
  }
 ],
 "metadata": {
  "kernelspec": {
   "display_name": "Python 3 (ipykernel)",
   "language": "python",
   "name": "python3"
  },
  "language_info": {
   "codemirror_mode": {
    "name": "ipython",
    "version": 3
   },
   "file_extension": ".py",
   "mimetype": "text/x-python",
   "name": "python",
   "nbconvert_exporter": "python",
   "pygments_lexer": "ipython3",
   "version": "3.10.8"
  }
 },
 "nbformat": 4,
 "nbformat_minor": 5
}
