{
 "cells": [
  {
   "cell_type": "markdown",
   "id": "1e092f9d-eb31-4bbe-90de-704d0f77a49c",
   "metadata": {},
   "source": [
    "Q2. Name the four pillars of OOPs.\n",
    "\n",
    "Ans: four pillars of OOPs are \n",
    "    \n",
    "    1. inheritance\n",
    "    2.polymorphism\n",
    "    3.abstraction\n",
    "    4.encapsulation"
   ]
  },
  {
   "cell_type": "code",
   "execution_count": null,
   "id": "f09e3c6b-c0f9-4d12-ad0a-9d46b48b4701",
   "metadata": {},
   "outputs": [],
   "source": []
  }
 ],
 "metadata": {
  "kernelspec": {
   "display_name": "Python 3 (ipykernel)",
   "language": "python",
   "name": "python3"
  },
  "language_info": {
   "codemirror_mode": {
    "name": "ipython",
    "version": 3
   },
   "file_extension": ".py",
   "mimetype": "text/x-python",
   "name": "python",
   "nbconvert_exporter": "python",
   "pygments_lexer": "ipython3",
   "version": "3.10.8"
  }
 },
 "nbformat": 4,
 "nbformat_minor": 5
}
