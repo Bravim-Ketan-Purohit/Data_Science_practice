{
 "cells": [
  {
   "cell_type": "markdown",
   "id": "5c430263-2385-4871-8fc6-5539253570cf",
   "metadata": {},
   "source": [
    "Q5. What is inheritance? Give an example for each type of inheritance.\n",
    "\n",
    "Ans : Inheritance is defined as the mechanism of inheriting the properties of the base class to the child class"
   ]
  },
  {
   "cell_type": "markdown",
   "id": "5ee7522c-7edd-4139-9c61-92ec0a46d3f9",
   "metadata": {},
   "source": [
    "1. Single inheritance"
   ]
  },
  {
   "cell_type": "code",
   "execution_count": 3,
   "id": "923a3fb0-aff4-485b-a57c-41ddbc76ffd3",
   "metadata": {},
   "outputs": [],
   "source": [
    "# single inheritance\n",
    "class parent:\n",
    "    def method1():\n",
    "        print(\"I am parent\")\n",
    "class child(parent):\n",
    "    def method2():\n",
    "        print(\"I am child\")"
   ]
  },
  {
   "cell_type": "code",
   "execution_count": 4,
   "id": "b0410af3-2340-455f-8b9b-abb83857681d",
   "metadata": {},
   "outputs": [],
   "source": [
    "obj = child"
   ]
  },
  {
   "cell_type": "code",
   "execution_count": 6,
   "id": "70005e4f-dcdb-4f3c-97b5-7585764a9885",
   "metadata": {},
   "outputs": [
    {
     "name": "stdout",
     "output_type": "stream",
     "text": [
      "I am parent\n"
     ]
    }
   ],
   "source": [
    "obj.method1()"
   ]
  },
  {
   "cell_type": "code",
   "execution_count": 7,
   "id": "887bf6f4-7542-4bdf-b9d0-77617548976e",
   "metadata": {},
   "outputs": [
    {
     "name": "stdout",
     "output_type": "stream",
     "text": [
      "I am child\n"
     ]
    }
   ],
   "source": [
    "obj.method2()"
   ]
  },
  {
   "cell_type": "markdown",
   "id": "a32c25ef-1323-4a15-aa26-0aed6a929cde",
   "metadata": {},
   "source": [
    "2. Multiple inheritance"
   ]
  },
  {
   "cell_type": "code",
   "execution_count": 33,
   "id": "fc8e38bf-0dd5-4246-a41b-46648097a8b5",
   "metadata": {},
   "outputs": [
    {
     "name": "stdout",
     "output_type": "stream",
     "text": [
      "Father : Ketan\n",
      "Mother : Deepal\n"
     ]
    }
   ],
   "source": [
    "class Mother:\n",
    "\tmothername = \"\"\n",
    "\tdef mother(self):\n",
    "\t\tprint(self.mothername)\n",
    "class Father:\n",
    "\tfathername = \"\"\n",
    "\tdef father(self):\n",
    "\t\tprint(self.fathername)\n",
    "class Son(Mother, Father):\n",
    "\tdef parents(self):\n",
    "\t\tprint(\"Father :\", self.fathername)\n",
    "\t\tprint(\"Mother :\", self.mothername)\n",
    "s1 = Son()\n",
    "s1.fathername = \"Ketan\"\n",
    "s1.mothername = \"Deepal\"\n",
    "s1.parents()\n"
   ]
  },
  {
   "cell_type": "markdown",
   "id": "e21d0511-e519-4da5-afcd-b7d5c20e5f89",
   "metadata": {},
   "source": [
    "3. Multilevel inheritance"
   ]
  },
  {
   "cell_type": "code",
   "execution_count": 35,
   "id": "5daa4c85-ae52-4e2e-b7bd-a8d2e1552b3f",
   "metadata": {},
   "outputs": [
    {
     "name": "stdout",
     "output_type": "stream",
     "text": [
      "Pradyuman\n",
      "Grandfather name : Pradyuman\n",
      "Father name : Ketan\n",
      "Son name : Bravim\n"
     ]
    }
   ],
   "source": [
    "class Grandfather:\n",
    "\tdef __init__(self, grandfathername):\n",
    "\t\tself.grandfathername = grandfathername\n",
    "class Father(Grandfather):\n",
    "\tdef __init__(self, fathername, grandfathername):\n",
    "\t\tself.fathername = fathername\n",
    "\t\tGrandfather.__init__(self, grandfathername)\n",
    "class Son(Father):\n",
    "\tdef __init__(self, sonname, fathername, grandfathername):\n",
    "\t\tself.sonname = sonname\n",
    "\t\tFather.__init__(self, fathername, grandfathername)\n",
    "\tdef print_name(self):\n",
    "\t\tprint('Grandfather name :', self.grandfathername)\n",
    "\t\tprint(\"Father name :\", self.fathername)\n",
    "\t\tprint(\"Son name :\", self.sonname)\n",
    "s1 = Son('Bravim', 'Ketan', 'Pradyuman')\n",
    "print(s1.grandfathername)\n",
    "s1.print_name()\n"
   ]
  },
  {
   "cell_type": "code",
   "execution_count": null,
   "id": "a19f25fa-14cd-4f05-b493-674c12fded27",
   "metadata": {},
   "outputs": [],
   "source": []
  }
 ],
 "metadata": {
  "kernelspec": {
   "display_name": "Python 3 (ipykernel)",
   "language": "python",
   "name": "python3"
  },
  "language_info": {
   "codemirror_mode": {
    "name": "ipython",
    "version": 3
   },
   "file_extension": ".py",
   "mimetype": "text/x-python",
   "name": "python",
   "nbconvert_exporter": "python",
   "pygments_lexer": "ipython3",
   "version": "3.10.8"
  }
 },
 "nbformat": 4,
 "nbformat_minor": 5
}
