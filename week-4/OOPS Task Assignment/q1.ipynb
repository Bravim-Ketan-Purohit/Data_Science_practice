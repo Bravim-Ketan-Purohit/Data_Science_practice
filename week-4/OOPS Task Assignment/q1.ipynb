{
 "cells": [
  {
   "cell_type": "markdown",
   "id": "a898f6c8-ac83-4931-b5ea-2158b2bd607a",
   "metadata": {},
   "source": [
    "Q1, Create a vehicle class with an init method having instance variables as name_of_vehicle, max_speed\n",
    "and average_of_vehicle."
   ]
  },
  {
   "cell_type": "code",
   "execution_count": 19,
   "id": "dc93f7f8-4800-43d2-8b46-50cedc67d731",
   "metadata": {},
   "outputs": [],
   "source": [
    "class vehicle:\n",
    "    def __init__(self,name_of_vehicle,max_speed,avg_of_vehicle):\n",
    "        self.name_of_vehicle = name_of_vehicle\n",
    "        self.max_speed = max_speed\n",
    "        self.avg_of_vehicle = avg_of_vehicle\n",
    "        \n",
    "        print(avg_of_vehicle,max_speed,name_of_vehicle)"
   ]
  },
  {
   "cell_type": "code",
   "execution_count": 20,
   "id": "6347b697-22a1-4bfe-8bc7-65d8138f79e8",
   "metadata": {},
   "outputs": [
    {
     "name": "stdout",
     "output_type": "stream",
     "text": [
      "20-kmpl 10-0kmph Innova\n"
     ]
    }
   ],
   "source": [
    "car = vehicle(\"Innova\",\"10-0kmph\",\"20-kmpl\")"
   ]
  },
  {
   "cell_type": "code",
   "execution_count": null,
   "id": "554999c3-37f6-483b-a8b3-b0d941fa0f16",
   "metadata": {},
   "outputs": [],
   "source": []
  },
  {
   "cell_type": "code",
   "execution_count": null,
   "id": "10d1c8b6-ecc0-4664-a57d-c3ddcec83cf4",
   "metadata": {},
   "outputs": [],
   "source": []
  }
 ],
 "metadata": {
  "kernelspec": {
   "display_name": "Python 3 (ipykernel)",
   "language": "python",
   "name": "python3"
  },
  "language_info": {
   "codemirror_mode": {
    "name": "ipython",
    "version": 3
   },
   "file_extension": ".py",
   "mimetype": "text/x-python",
   "name": "python",
   "nbconvert_exporter": "python",
   "pygments_lexer": "ipython3",
   "version": "3.10.8"
  }
 },
 "nbformat": 4,
 "nbformat_minor": 5
}
