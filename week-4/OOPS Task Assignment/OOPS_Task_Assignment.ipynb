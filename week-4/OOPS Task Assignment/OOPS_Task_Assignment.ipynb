{
  "nbformat": 4,
  "nbformat_minor": 0,
  "metadata": {
    "colab": {
      "provenance": []
    },
    "kernelspec": {
      "name": "python3",
      "display_name": "Python 3"
    },
    "language_info": {
      "name": "python"
    }
  },
  "cells": [
    {
      "cell_type": "markdown",
      "source": [
        "##Q1, Create a vehicle class with an init method having instance variables as name_of_vehicle, max_speed and average_of_vehicle."
      ],
      "metadata": {
        "id": "zD25lBfqsucv"
      }
    },
    {
      "cell_type": "code",
      "execution_count": 1,
      "metadata": {
        "id": "jjQil_8isq4u"
      },
      "outputs": [],
      "source": [
        "class vehicle:\n",
        "    def __init__(self,name_of_vehicle,max_speed,avg_of_vehicle):\n",
        "        self.name_of_vehicle = name_of_vehicle\n",
        "        self.max_speed = max_speed\n",
        "        self.avg_of_vehicle = avg_of_vehicle\n",
        "\n",
        "        print(avg_of_vehicle,max_speed,name_of_vehicle)"
      ]
    },
    {
      "cell_type": "code",
      "source": [
        "car = vehicle(\"Innova\",\"10-0kmph\",\"20-kmpl\")"
      ],
      "metadata": {
        "colab": {
          "base_uri": "https://localhost:8080/"
        },
        "id": "ddVV22FtsyhP",
        "outputId": "74c58e36-cdf5-499c-9706-55a134cec5f5"
      },
      "execution_count": 2,
      "outputs": [
        {
          "output_type": "stream",
          "name": "stdout",
          "text": [
            "20-kmpl 10-0kmph Innova\n"
          ]
        }
      ]
    },
    {
      "cell_type": "markdown",
      "source": [
        "##Q2. Create a child class car from the vehicle class created in Que 1, which will inherit the vehicle class. Create a method named seating_capacity which takes capacity as an argument and returns the name of the vehicle and its seating capacity."
      ],
      "metadata": {
        "id": "O91qGoIqs4Qt"
      }
    },
    {
      "cell_type": "code",
      "source": [
        "class Vehicle:\n",
        "    def __init__(self, name_of_vehicle, max_speed, average_of_vehicle):\n",
        "        self.name_of_vehicle = name_of_vehicle\n",
        "        self.max_speed = max_speed\n",
        "        self.average_of_vehicle = average_of_vehicle\n",
        "class Car(Vehicle):\n",
        "    def seating_capacity(self, capacity):\n",
        "        return f\"The {self.name_of_vehicle} has a seating capacity of {capacity}.\""
      ],
      "metadata": {
        "id": "Rx6fFRdds1YE"
      },
      "execution_count": 3,
      "outputs": []
    },
    {
      "cell_type": "code",
      "source": [
        "car = Car(\"Toyota Camry\", 200, 25)\n",
        "capacity = 5\n",
        "result = car.seating_capacity(capacity)"
      ],
      "metadata": {
        "id": "P4afL9iIs88M"
      },
      "execution_count": 4,
      "outputs": []
    },
    {
      "cell_type": "code",
      "source": [
        "print(result)"
      ],
      "metadata": {
        "colab": {
          "base_uri": "https://localhost:8080/"
        },
        "id": "M_oQL3kjs-5U",
        "outputId": "7cc85527-bb8e-4351-dad5-14aaa36f8e7b"
      },
      "execution_count": 5,
      "outputs": [
        {
          "output_type": "stream",
          "name": "stdout",
          "text": [
            "The Toyota Camry has a seating capacity of 5.\n"
          ]
        }
      ]
    },
    {
      "cell_type": "markdown",
      "source": [
        "##Q3. What is multiple inheritance? Write a python code to demonstrate multiple inheritance.\n",
        "\n",
        "Ans: Multiple inheritance is a feature in object-oriented programming languages that allows a class to inherit from multiple parent classes. In other words, a class can derive characteristics and behaviors from multiple base classes"
      ],
      "metadata": {
        "id": "GlPTWc9gtEku"
      }
    },
    {
      "cell_type": "code",
      "source": [
        "class Animal:\n",
        "    def __init__(self, name):\n",
        "        self.name = name\n",
        "\n",
        "    def speak(self):\n",
        "        raise NotImplementedError(\"Subclass must implement this method\")\n",
        "\n",
        "\n",
        "class Flyable:\n",
        "    def fly(self):\n",
        "        print(\"Flying...\")\n",
        "\n",
        "\n",
        "class Walkable:\n",
        "    def walk(self):\n",
        "        print(\"Walking...\")\n",
        "\n",
        "\n",
        "class Bird(Animal, Flyable, Walkable):\n",
        "    def speak(self):\n",
        "        print(\"Chirp!\")\n",
        "\n",
        "\n",
        "class Dog(Animal, Walkable):\n",
        "    def speak(self):\n",
        "        print(\"Woof!\")\n",
        "\n",
        "bird = Bird(\"Sparrow\")\n",
        "bird.speak()\n",
        "bird.fly()\n",
        "bird.walk()\n",
        "\n",
        "dog = Dog(\"Fido\")\n",
        "dog.speak()\n",
        "dog.walk()"
      ],
      "metadata": {
        "colab": {
          "base_uri": "https://localhost:8080/"
        },
        "id": "OoBezQagtATN",
        "outputId": "b015578a-746c-4e45-b040-0ba270fc88fe"
      },
      "execution_count": 6,
      "outputs": [
        {
          "output_type": "stream",
          "name": "stdout",
          "text": [
            "Chirp!\n",
            "Flying...\n",
            "Walking...\n",
            "Woof!\n",
            "Walking...\n"
          ]
        }
      ]
    },
    {
      "cell_type": "markdown",
      "source": [
        "##Q4. What are getter and setter in python? Create a class and create a getter and a setter method in this class."
      ],
      "metadata": {
        "id": "i41lOI-qtVDF"
      }
    },
    {
      "cell_type": "code",
      "source": [
        "class skill:\n",
        "    def __init__(self,course,price):\n",
        "        self.__price = price\n",
        "        self.course = course\n",
        "\n",
        "    @property\n",
        "    def access_price(self):\n",
        "        return(self.__price)\n",
        "\n",
        "    @access_price.setter\n",
        "    def access_price_setter(self,price):\n",
        "        self.__price = price\n",
        "\n",
        "    @access_price.deleter\n",
        "    def access_price_del(self):\n",
        "        del self.__price"
      ],
      "metadata": {
        "id": "Arxhnq1ntScN"
      },
      "execution_count": 7,
      "outputs": []
    },
    {
      "cell_type": "code",
      "source": [
        "sk = skill(\"Data science\",3500)"
      ],
      "metadata": {
        "id": "SZDt_LLstjVt"
      },
      "execution_count": 8,
      "outputs": []
    },
    {
      "cell_type": "code",
      "source": [
        "sk.access_price"
      ],
      "metadata": {
        "colab": {
          "base_uri": "https://localhost:8080/"
        },
        "id": "x-URnKk1tk6z",
        "outputId": "4b0574c7-65a7-4bbb-d96d-250c6734e363"
      },
      "execution_count": 9,
      "outputs": [
        {
          "output_type": "execute_result",
          "data": {
            "text/plain": [
              "3500"
            ]
          },
          "metadata": {},
          "execution_count": 9
        }
      ]
    },
    {
      "cell_type": "code",
      "source": [
        "sk.access_price_setter = 4000"
      ],
      "metadata": {
        "id": "WbvaTdwFtmU1"
      },
      "execution_count": 10,
      "outputs": []
    },
    {
      "cell_type": "code",
      "source": [
        "sk.access_price"
      ],
      "metadata": {
        "colab": {
          "base_uri": "https://localhost:8080/"
        },
        "id": "Bf2xiAMQtnvN",
        "outputId": "1238f8c5-1ea1-45be-ff89-c127f17553c0"
      },
      "execution_count": 11,
      "outputs": [
        {
          "output_type": "execute_result",
          "data": {
            "text/plain": [
              "4000"
            ]
          },
          "metadata": {},
          "execution_count": 11
        }
      ]
    },
    {
      "cell_type": "code",
      "source": [
        "del sk.access_price_del"
      ],
      "metadata": {
        "id": "CcQlwKROtqLD"
      },
      "execution_count": 17,
      "outputs": []
    },
    {
      "cell_type": "code",
      "source": [
        "sk.access_price\n",
        "# here we get an error because the currently is deleted from the memory and cannot be accessed as it does not exist"
      ],
      "metadata": {
        "colab": {
          "base_uri": "https://localhost:8080/",
          "height": 304
        },
        "id": "SBJYtPgZtr8s",
        "outputId": "a69a4a66-653e-4bd8-e523-db0b57adc062"
      },
      "execution_count": 18,
      "outputs": [
        {
          "output_type": "error",
          "ename": "AttributeError",
          "evalue": "ignored",
          "traceback": [
            "\u001b[0;31m---------------------------------------------------------------------------\u001b[0m",
            "\u001b[0;31mAttributeError\u001b[0m                            Traceback (most recent call last)",
            "\u001b[0;32m<ipython-input-18-4791249fbc0a>\u001b[0m in \u001b[0;36m<cell line: 1>\u001b[0;34m()\u001b[0m\n\u001b[0;32m----> 1\u001b[0;31m \u001b[0msk\u001b[0m\u001b[0;34m.\u001b[0m\u001b[0maccess_price\u001b[0m\u001b[0;34m\u001b[0m\u001b[0;34m\u001b[0m\u001b[0m\n\u001b[0m\u001b[1;32m      2\u001b[0m \u001b[0;31m# here we get an error because the currently is deleted from the memory and cannot be accessed as it does not exist\u001b[0m\u001b[0;34m\u001b[0m\u001b[0;34m\u001b[0m\u001b[0m\n",
            "\u001b[0;32m<ipython-input-7-33c976cc7d8f>\u001b[0m in \u001b[0;36maccess_price\u001b[0;34m(self)\u001b[0m\n\u001b[1;32m      6\u001b[0m     \u001b[0;34m@\u001b[0m\u001b[0mproperty\u001b[0m\u001b[0;34m\u001b[0m\u001b[0;34m\u001b[0m\u001b[0m\n\u001b[1;32m      7\u001b[0m     \u001b[0;32mdef\u001b[0m \u001b[0maccess_price\u001b[0m\u001b[0;34m(\u001b[0m\u001b[0mself\u001b[0m\u001b[0;34m)\u001b[0m\u001b[0;34m:\u001b[0m\u001b[0;34m\u001b[0m\u001b[0;34m\u001b[0m\u001b[0m\n\u001b[0;32m----> 8\u001b[0;31m         \u001b[0;32mreturn\u001b[0m\u001b[0;34m(\u001b[0m\u001b[0mself\u001b[0m\u001b[0;34m.\u001b[0m\u001b[0m__price\u001b[0m\u001b[0;34m)\u001b[0m\u001b[0;34m\u001b[0m\u001b[0;34m\u001b[0m\u001b[0m\n\u001b[0m\u001b[1;32m      9\u001b[0m \u001b[0;34m\u001b[0m\u001b[0m\n\u001b[1;32m     10\u001b[0m     \u001b[0;34m@\u001b[0m\u001b[0maccess_price\u001b[0m\u001b[0;34m.\u001b[0m\u001b[0msetter\u001b[0m\u001b[0;34m\u001b[0m\u001b[0;34m\u001b[0m\u001b[0m\n",
            "\u001b[0;31mAttributeError\u001b[0m: 'skill' object has no attribute '_skill__price'"
          ]
        }
      ]
    },
    {
      "cell_type": "code",
      "source": [
        "sk.access_price_setter = 4000"
      ],
      "metadata": {
        "id": "RjbosBSBttg1"
      },
      "execution_count": 14,
      "outputs": []
    },
    {
      "cell_type": "code",
      "source": [
        "sk.access_price"
      ],
      "metadata": {
        "colab": {
          "base_uri": "https://localhost:8080/"
        },
        "id": "D1z17Wm8twhw",
        "outputId": "536b7e48-7828-4631-c444-aaf849d79bfe"
      },
      "execution_count": 15,
      "outputs": [
        {
          "output_type": "execute_result",
          "data": {
            "text/plain": [
              "4000"
            ]
          },
          "metadata": {},
          "execution_count": 15
        }
      ]
    },
    {
      "cell_type": "code",
      "source": [],
      "metadata": {
        "id": "YfKKLg9jtx11"
      },
      "execution_count": null,
      "outputs": []
    }
  ]
}