{
 "cells": [
  {
   "cell_type": "markdown",
   "id": "bc5f38e1-477f-4cad-a2f7-d26c2692cdd5",
   "metadata": {},
   "source": [
    "Q3. What is multiple inheritance? Write a python code to demonstrate multiple inheritance.\n",
    "\n",
    "Ans: Multiple inheritance is a feature in object-oriented programming languages that allows a class to inherit from multiple parent classes. In other words, a class can derive characteristics and behaviors from multiple base classes"
   ]
  },
  {
   "cell_type": "code",
   "execution_count": 14,
   "id": "4dfc6f54-8023-46f7-8f69-f1ed8342303e",
   "metadata": {},
   "outputs": [
    {
     "name": "stdout",
     "output_type": "stream",
     "text": [
      "Chirp!\n",
      "Flying...\n",
      "Walking...\n",
      "Woof!\n",
      "Walking...\n"
     ]
    }
   ],
   "source": [
    "class Animal:\n",
    "    def __init__(self, name):\n",
    "        self.name = name\n",
    "\n",
    "    def speak(self):\n",
    "        raise NotImplementedError(\"Subclass must implement this method\")\n",
    "\n",
    "\n",
    "class Flyable:\n",
    "    def fly(self):\n",
    "        print(\"Flying...\")\n",
    "\n",
    "\n",
    "class Walkable:\n",
    "    def walk(self):\n",
    "        print(\"Walking...\")\n",
    "\n",
    "\n",
    "class Bird(Animal, Flyable, Walkable):\n",
    "    def speak(self):\n",
    "        print(\"Chirp!\")\n",
    "\n",
    "\n",
    "class Dog(Animal, Walkable):\n",
    "    def speak(self):\n",
    "        print(\"Woof!\")\n",
    "\n",
    "\n",
    "# Example usage:\n",
    "bird = Bird(\"Sparrow\")\n",
    "bird.speak()  # Output: Chirp!\n",
    "bird.fly()    # Output: Flying...\n",
    "bird.walk()   # Output: Walking...\n",
    "\n",
    "dog = Dog(\"Fido\")\n",
    "dog.speak()   # Output: Woof!\n",
    "dog.walk()    # Output: Walking...\n"
   ]
  },
  {
   "cell_type": "code",
   "execution_count": null,
   "id": "916a989b-c671-4257-a33f-407ce6d3ecde",
   "metadata": {},
   "outputs": [],
   "source": []
  }
 ],
 "metadata": {
  "kernelspec": {
   "display_name": "Python 3 (ipykernel)",
   "language": "python",
   "name": "python3"
  },
  "language_info": {
   "codemirror_mode": {
    "name": "ipython",
    "version": 3
   },
   "file_extension": ".py",
   "mimetype": "text/x-python",
   "name": "python",
   "nbconvert_exporter": "python",
   "pygments_lexer": "ipython3",
   "version": "3.10.8"
  }
 },
 "nbformat": 4,
 "nbformat_minor": 5
}
