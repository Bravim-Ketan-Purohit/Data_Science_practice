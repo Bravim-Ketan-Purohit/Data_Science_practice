{
 "cells": [
  {
   "cell_type": "markdown",
   "id": "17cf8f64-4ad6-48e5-acfb-c9dc7a5bdac4",
   "metadata": {},
   "source": [
    "Q5.What is method overriding in python? Write a python code to demonstrate method overriding.\n",
    "\n",
    "Ans : Method overriding in Python is a concept where a subclass provides a different implementation of a method that is already defined in its parent class. When a method is overridden, the version of the method in the subclass is executed instead of the one in the parent class when the method is called on an instance of the subclass."
   ]
  },
  {
   "cell_type": "code",
   "execution_count": 1,
   "id": "7dbe0b7c-692d-45d4-8448-6a68fc893020",
   "metadata": {},
   "outputs": [
    {
     "name": "stdout",
     "output_type": "stream",
     "text": [
      "Rectangle Area: 50\n",
      "Circle Area: 28.26\n"
     ]
    }
   ],
   "source": [
    "class Shape:\n",
    "    def area(self):\n",
    "        raise NotImplementedError(\"Subclass must implement this method\")\n",
    "\n",
    "\n",
    "class Rectangle(Shape):\n",
    "    def __init__(self, width, height):\n",
    "        self.width = width\n",
    "        self.height = height\n",
    "\n",
    "    def area(self):\n",
    "        return self.width * self.height\n",
    "\n",
    "\n",
    "class Circle(Shape):\n",
    "    def __init__(self, radius):\n",
    "        self.radius = radius\n",
    "\n",
    "    def area(self):\n",
    "        return 3.14 * self.radius ** 2\n",
    "\n",
    "\n",
    "# Example usage:\n",
    "rectangle = Rectangle(5, 10)\n",
    "rectangle_area = rectangle.area()\n",
    "print(\"Rectangle Area:\", rectangle_area)  # Output: Rectangle Area: 50\n",
    "\n",
    "circle = Circle(3)\n",
    "circle_area = circle.area()\n",
    "print(\"Circle Area:\", circle_area)  # Output: Circle Area: 28.26\n"
   ]
  },
  {
   "cell_type": "code",
   "execution_count": null,
   "id": "f8465d2a-83fc-455a-8322-86c73a1bde8a",
   "metadata": {},
   "outputs": [],
   "source": []
  }
 ],
 "metadata": {
  "kernelspec": {
   "display_name": "Python 3 (ipykernel)",
   "language": "python",
   "name": "python3"
  },
  "language_info": {
   "codemirror_mode": {
    "name": "ipython",
    "version": 3
   },
   "file_extension": ".py",
   "mimetype": "text/x-python",
   "name": "python",
   "nbconvert_exporter": "python",
   "pygments_lexer": "ipython3",
   "version": "3.10.8"
  }
 },
 "nbformat": 4,
 "nbformat_minor": 5
}
