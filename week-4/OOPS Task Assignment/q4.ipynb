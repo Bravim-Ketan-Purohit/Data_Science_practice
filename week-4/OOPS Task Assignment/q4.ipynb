{
 "cells": [
  {
   "cell_type": "code",
   "execution_count": 1,
   "id": "9888048f-9ea6-4f56-b10e-98ec4642d0bb",
   "metadata": {},
   "outputs": [],
   "source": [
    "class skill:\n",
    "    def __init__(self,course,price):\n",
    "        self.__price = price\n",
    "        self.course = course\n",
    "        \n",
    "    @property\n",
    "    def access_price(self):\n",
    "        return(self.__price)\n",
    "    \n",
    "    @access_price.setter\n",
    "    def access_price_setter(self,price):\n",
    "        self.__price = price\n",
    "        \n",
    "    @access_price.deleter\n",
    "    def access_price_del(self):\n",
    "        del self.__price"
   ]
  },
  {
   "cell_type": "code",
   "execution_count": 2,
   "id": "16e0d9df-d792-43f6-8f65-1bf47a53201b",
   "metadata": {},
   "outputs": [],
   "source": [
    "sk = skill(\"Data science\",3500)"
   ]
  },
  {
   "cell_type": "code",
   "execution_count": 3,
   "id": "340ae025-cf8e-4f56-9cac-f3a51f273957",
   "metadata": {},
   "outputs": [
    {
     "data": {
      "text/plain": [
       "3500"
      ]
     },
     "execution_count": 3,
     "metadata": {},
     "output_type": "execute_result"
    }
   ],
   "source": [
    "sk.access_price"
   ]
  },
  {
   "cell_type": "code",
   "execution_count": 4,
   "id": "00de64cd-68cd-4da5-a2d1-f37cf125e682",
   "metadata": {},
   "outputs": [],
   "source": [
    "sk.access_price_setter = 4000"
   ]
  },
  {
   "cell_type": "code",
   "execution_count": 5,
   "id": "23992d02-7e66-46a7-88ef-3439963d3151",
   "metadata": {},
   "outputs": [
    {
     "data": {
      "text/plain": [
       "4000"
      ]
     },
     "execution_count": 5,
     "metadata": {},
     "output_type": "execute_result"
    }
   ],
   "source": [
    "sk.access_price"
   ]
  },
  {
   "cell_type": "code",
   "execution_count": 6,
   "id": "ed749a8c-9493-472e-a9e0-c9d840381ac1",
   "metadata": {},
   "outputs": [],
   "source": [
    "del sk.access_price_del"
   ]
  },
  {
   "cell_type": "code",
   "execution_count": 7,
   "id": "17b17c06-8633-45ff-9ced-8af9798a3a19",
   "metadata": {},
   "outputs": [
    {
     "ename": "AttributeError",
     "evalue": "'skill' object has no attribute '_skill__price'",
     "output_type": "error",
     "traceback": [
      "\u001b[0;31m---------------------------------------------------------------------------\u001b[0m",
      "\u001b[0;31mAttributeError\u001b[0m                            Traceback (most recent call last)",
      "Cell \u001b[0;32mIn[7], line 1\u001b[0m\n\u001b[0;32m----> 1\u001b[0m \u001b[43msk\u001b[49m\u001b[38;5;241;43m.\u001b[39;49m\u001b[43maccess_price\u001b[49m\n",
      "Cell \u001b[0;32mIn[1], line 8\u001b[0m, in \u001b[0;36mskill.access_price\u001b[0;34m(self)\u001b[0m\n\u001b[1;32m      6\u001b[0m \u001b[38;5;129m@property\u001b[39m\n\u001b[1;32m      7\u001b[0m \u001b[38;5;28;01mdef\u001b[39;00m \u001b[38;5;21maccess_price\u001b[39m(\u001b[38;5;28mself\u001b[39m):\n\u001b[0;32m----> 8\u001b[0m     \u001b[38;5;28;01mreturn\u001b[39;00m(\u001b[38;5;28;43mself\u001b[39;49m\u001b[38;5;241;43m.\u001b[39;49m\u001b[43m__price\u001b[49m)\n",
      "\u001b[0;31mAttributeError\u001b[0m: 'skill' object has no attribute '_skill__price'"
     ]
    }
   ],
   "source": [
    "sk.access_price"
   ]
  },
  {
   "cell_type": "code",
   "execution_count": 8,
   "id": "3cb57bc9-504e-4eb4-8671-96dcdcdbb064",
   "metadata": {},
   "outputs": [],
   "source": [
    "sk.access_price_setter = 4000"
   ]
  },
  {
   "cell_type": "code",
   "execution_count": 9,
   "id": "f018490e-4943-4586-962c-22c4392d2685",
   "metadata": {},
   "outputs": [
    {
     "data": {
      "text/plain": [
       "4000"
      ]
     },
     "execution_count": 9,
     "metadata": {},
     "output_type": "execute_result"
    }
   ],
   "source": [
    "sk.access_price"
   ]
  },
  {
   "cell_type": "code",
   "execution_count": null,
   "id": "37b81041-1e26-4544-b93a-b66981c112a5",
   "metadata": {},
   "outputs": [],
   "source": []
  }
 ],
 "metadata": {
  "kernelspec": {
   "display_name": "Python 3 (ipykernel)",
   "language": "python",
   "name": "python3"
  },
  "language_info": {
   "codemirror_mode": {
    "name": "ipython",
    "version": 3
   },
   "file_extension": ".py",
   "mimetype": "text/x-python",
   "name": "python",
   "nbconvert_exporter": "python",
   "pygments_lexer": "ipython3",
   "version": "3.10.8"
  }
 },
 "nbformat": 4,
 "nbformat_minor": 5
}
